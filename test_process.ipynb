{
 "cells": [
  {
   "cell_type": "code",
   "execution_count": 1,
   "metadata": {},
   "outputs": [],
   "source": [
    "from src.eda_vector import *\n",
    "from src.lda_model import *\n",
    "from src.model import *\n",
    "from src.classifier import *"
   ]
  },
  {
   "cell_type": "code",
   "execution_count": 2,
   "metadata": {},
   "outputs": [
    {
     "data": {
      "text/plain": [
       "'\\nNOTE: No EDA appears in this notebook. See Untitled-Copy2 for EDA\\n--> EDA methods also availible in EDA_vec class\\n'"
      ]
     },
     "execution_count": 2,
     "metadata": {},
     "output_type": "execute_result"
    }
   ],
   "source": [
    "'''\n",
    "NOTE: No EDA appears in this notebook. See Untitled-Copy2 for EDA\n",
    "--> EDA methods also availible in EDA_vec class\n",
    "'''"
   ]
  },
  {
   "cell_type": "code",
   "execution_count": 23,
   "metadata": {},
   "outputs": [
    {
     "name": "stderr",
     "output_type": "stream",
     "text": [
      "/home/ubuntu/anaconda3/lib/python3.7/site-packages/IPython/core/interactiveshell.py:3185: DtypeWarning: Columns (8) have mixed types.Specify dtype option on import or set low_memory=False.\n",
      "  if (yield from self.run_code(code, result)):\n",
      "/home/ubuntu/anaconda3/lib/python3.7/site-packages/IPython/core/interactiveshell.py:3185: DtypeWarning: Columns (5) have mixed types.Specify dtype option on import or set low_memory=False.\n",
      "  if (yield from self.run_code(code, result)):\n"
     ]
    }
   ],
   "source": [
    "# train, test, split\n",
    "X_train, X_test, y_train, y_test = get_data(num_samples=750000)"
   ]
  },
  {
   "cell_type": "code",
   "execution_count": 24,
   "metadata": {},
   "outputs": [],
   "source": [
    "# vectorizing process\n",
    "custom_stops = ['https', 'rt', 'co', 'amp', 'via', 'go', 'get', 'said', 'say', 'news', 'new', 'make', 'want', \n",
    "                'trump', 'clinton', 'donald', 'donald trump', 'donaldtrump', 'says', 'hillary', 'hillaryclinton',\n",
    "                'hillary clinton', 'realdonaldtrump', 'would', 'let', 'video', 'like']\n",
    "\n",
    "# fit vectorizer, add stop words, return vocab\n",
    "vectors = EDA_vec(X_train, y_train)\n",
    "vectors.add_stop_words(custom_stops)\n",
    "vocab, fit_mat = vectors.vectorize(min_df=0.0001)\n",
    "\n",
    "# transform traininng and testing data \n",
    "matrix = fit_mat.transform(X_train)\n",
    "matrix_test = fit_mat.transform(X_test)"
   ]
  },
  {
   "cell_type": "code",
   "execution_count": 25,
   "metadata": {},
   "outputs": [
    {
     "data": {
      "text/plain": [
       "((375000, 14275), (125000, 14275))"
      ]
     },
     "execution_count": 25,
     "metadata": {},
     "output_type": "execute_result"
    }
   ],
   "source": [
    "matrix.shape, matrix_test.shape"
   ]
  },
  {
   "cell_type": "code",
   "execution_count": 26,
   "metadata": {},
   "outputs": [],
   "source": [
    "# fit LDA model on training data\n",
    "lda = LDA_model(topics=5)\n",
    "lda.fit(matrix, y_train, vocab)\n",
    "lda.phi() # to evaluate coherence score\n",
    "theta = lda.theta()\n",
    "\n",
    "# get test theta for random forest evaluation\n",
    "theta_test = lda.test_theta(matrix_test)"
   ]
  },
  {
   "cell_type": "code",
   "execution_count": 27,
   "metadata": {},
   "outputs": [],
   "source": [
    "# random forest \n",
    "forest = RandForest(n_estimators=100, max_depth=50, max_leaf=50, max_features=theta.shape[1])\n",
    "forest.fit(theta, y_train)\n",
    "probas, y_hat = forest.predict(theta_test)\n",
    "forest.score(y_test, y_hat)"
   ]
  },
  {
   "cell_type": "code",
   "execution_count": 28,
   "metadata": {},
   "outputs": [
    {
     "name": "stdout",
     "output_type": "stream",
     "text": [
      "accuracy = 0.92\n",
      "oob = 0.92\n",
      "recall = 1.0\n",
      "precision = 0.92\n"
     ]
    }
   ],
   "source": [
    "print(f'accuracy = {forest.acc}')\n",
    "print(f'oob = {forest.oob}')\n",
    "print(f'recall = {forest.recall}')\n",
    "print(f'precision = {forest.precision}')"
   ]
  },
  {
   "cell_type": "code",
   "execution_count": 29,
   "metadata": {},
   "outputs": [
    {
     "data": {
      "image/png": "[encoded data removed]",
      "text/plain": [
       "<Figure size 432x288 with 2 Axes>"
      ]
     },
     "metadata": {
      "needs_background": "light"
     },
     "output_type": "display_data"
    }
   ],
   "source": [
    "forest.plot_confusion()"
   ]
  },
  {
   "cell_type": "code",
   "execution_count": 30,
   "metadata": {},
   "outputs": [
    {
     "data": {
      "image/png": "[encoded data removed]",
      "text/plain": [
       "<Figure size 720x288 with 1 Axes>"
      ]
     },
     "metadata": {
      "needs_background": "light"
     },
     "output_type": "display_data"
    }
   ],
   "source": [
    "forest.chart_gini_import()"
   ]
  },
  {
   "cell_type": "code",
   "execution_count": 31,
   "metadata": {},
   "outputs": [
    {
     "data": {
      "text/plain": [
       "-4.748669717009582"
      ]
     },
     "execution_count": 31,
     "metadata": {},
     "output_type": "execute_result"
    }
   ],
   "source": [
    "lda.coherance_score()"
   ]
  },
  {
   "cell_type": "code",
   "execution_count": null,
   "metadata": {},
   "outputs": [],
   "source": [
    "'''TOPIC COHERANCE SCORES: --> only 10k data samples'''\n",
    "# topics 2 --> -7.487219089117191\n",
    "# topics 4 --> -10.222697013007569\n",
    "# topics 6 --> -12.070494413320219\n",
    "# topics 8 --> -13.165411752758045\n",
    "# topics 10 --> -13.466351137344793\n",
    "# topics 12 --> -14.279565234962526\n",
    "# topics 14 --> -14.610241988703596\n",
    "# topics 18 --> -15.333867297657738\n",
    "# topics 20 --> -15.802765426002347\n",
    "# topics 22 --> -15.90626134524627\n",
    "# topics 24 --> -16.21720655745143\n",
    "# topics 26 --> -15.494214848919107"
   ]
  },
  {
   "cell_type": "code",
   "execution_count": 32,
   "metadata": {},
   "outputs": [],
   "source": [
    "# test for best num_topics:\n",
    "\n",
    "def test_topics(X, y, vocab, low, high, by):\n",
    "    scores = []\n",
    "    \n",
    "    for n_topic in range(low, high, by):\n",
    "        lda = LDA_model(topics=n_topic)\n",
    "        lda.fit(X, y, vocab)\n",
    "        lda.phi()\n",
    "        score = lda.coherance_score()\n",
    "        scores.append((n_topic, score))\n",
    "        \n",
    "    return scores\n",
    "\n",
    "def print_topic_score(scores):\n",
    "    for score in scores:\n",
    "        print(f'#{score[0]} --> {score[1]}')\n",
    "        \n",
    "def plot_topic_scores(scores):\n",
    "    fig, ax = plt.subplots()\n",
    "    x = [n_topics[0] for n_topics in scores]\n",
    "    y = [score[1] for score in scores]\n",
    "    \n",
    "    ax.plot(x, y)\n",
    "    ax.set_title('Coherence Score by Topic')\n",
    "    ax.set_xlabel('# of Topics')\n",
    "    ax.set_ylabel('Coherence Score');"
   ]
  },
  {
   "cell_type": "code",
   "execution_count": null,
   "metadata": {},
   "outputs": [],
   "source": [
    "topic_scores = test_topics(matrix, y_train, vocab, 2, 30, 2)"
   ]
  },
  {
   "cell_type": "code",
   "execution_count": null,
   "metadata": {},
   "outputs": [],
   "source": [
    "from sklearn.model_selection import KFold\n",
    "from sklearn.metrics import recall_score, precision_score, plot_confusion_matrix\n",
    "\n",
    "# Random Forest, X = theta, y = y_train\n",
    "def eval_random_forest(X, y, folds=10, n_estimators=100, max_depth=5, max_leaf=None):\n",
    "    kf = KFold(n_splits=folds, shuffle=True)\n",
    "    accuracy = []\n",
    "    oob = []\n",
    "    iters = 0\n",
    "    \n",
    "    for train, test in kf.split(X):\n",
    "        \n",
    "        forest = RandForest(n_estimators=n_estimators, max_depth=max_depth, max_leaf=max_leaf, \n",
    "                            max_features=theta.shape[1])\n",
    "        forest.fit(X.iloc[train], y.iloc[train])\n",
    "        accuracy.append(forest.score(X.iloc[test], y.iloc[test]))\n",
    "        oob.append(forest.oob_score_)\n",
    "        \n",
    "        print(iters)\n",
    "        iters += 1\n",
    "    \n",
    "    return np.mean(accuracy), np.mean(oob), forest"
   ]
  },
  {
   "cell_type": "code",
   "execution_count": null,
   "metadata": {},
   "outputs": [],
   "source": [
    "'''\n",
    "1. Balance models\n",
    "2. Get bettter coherance scores\n",
    "3. Evaluate best number of estimators, leafs, and max_depth\n",
    "'''"
   ]
  }
 ],
 "metadata": {
  "kernelspec": {
   "display_name": "Python 3",
   "language": "python",
   "name": "python3"
  },
  "language_info": {
   "codemirror_mode": {
    "name": "ipython",
    "version": 3
   },
   "file_extension": ".py",
   "mimetype": "text/x-python",
   "name": "python",
   "nbconvert_exporter": "python",
   "pygments_lexer": "ipython3",
   "version": "3.7.1"
  }
 },
 "nbformat": 4,
 "nbformat_minor": 2
}
