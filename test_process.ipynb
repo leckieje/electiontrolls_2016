{
 "cells": [
  {
   "cell_type": "code",
   "execution_count": 1,
   "metadata": {},
   "outputs": [],
   "source": [
    "from src.eda_vector import *\n",
    "from src.lda_model import *\n",
    "from src.model import *\n",
    "from src.classifier import *\n",
    "from src.helpers import *\n",
    "from imblearn.over_sampling import SMOTE"
   ]
  },
  {
   "cell_type": "code",
   "execution_count": 2,
   "metadata": {},
   "outputs": [
    {
     "name": "stdout",
     "output_type": "stream",
     "text": [
      "\n"
     ]
    }
   ],
   "source": [
    "'''\n",
    "NOTE: No EDA appears in this notebook. See Untitled-Copy2 for EDA\n",
    "--> EDA methods also availible in EDA_vec class\n",
    "'''\n",
    "print()"
   ]
  },
  {
   "cell_type": "code",
   "execution_count": 3,
   "metadata": {
    "scrolled": true
   },
   "outputs": [
    {
     "name": "stderr",
     "output_type": "stream",
     "text": [
      "/home/ubuntu/anaconda3/lib/python3.7/site-packages/IPython/core/interactiveshell.py:3185: DtypeWarning: Columns (8) have mixed types.Specify dtype option on import or set low_memory=False.\n",
      "  if (yield from self.run_code(code, result)):\n",
      "/home/ubuntu/anaconda3/lib/python3.7/site-packages/IPython/core/interactiveshell.py:3185: DtypeWarning: Columns (5) have mixed types.Specify dtype option on import or set low_memory=False.\n",
      "  if (yield from self.run_code(code, result)):\n"
     ]
    }
   ],
   "source": [
    "# train, test, split\n",
    "X_train, X_test, y_train, y_test = get_data(num_samples=50000)"
   ]
  },
  {
   "cell_type": "code",
   "execution_count": 4,
   "metadata": {},
   "outputs": [],
   "source": [
    "# vectorizing process\n",
    "custom_stops = ['https', 'rt', 'co', 'amp', 'via', 'go', 'get', 'said', 'say', 'news', 'new', 'make', 'want', \n",
    "                'trump', 'clinton', 'donald', 'donald trump', 'donaldtrump', 'says', 'hillary', 'hillaryclinton',\n",
    "                'hillary clinton', 'realdonaldtrump', 'would', 'let', 'video', 'like']\n",
    "\n",
    "# custom_stops = ['https', 'rt', 'co', 'amp', 'via', 'go', 'get', 'said', 'say', 'news', 'new', 'make', 'want', \n",
    "#                 'says', 'would', 'let', 'video', 'like']\n",
    "\n",
    "# fit vectorizer, add stop words, return vocab\n",
    "vectors = EDA_vec(X_train, y_train)\n",
    "vectors.add_stop_words(custom_stops)\n",
    "vocab, fit_mat = vectors.vectorize(min_df=0.0001)\n",
    "\n",
    "# transform traininng and testing data \n",
    "matrix = fit_mat.transform(X_train)\n",
    "matrix_test = fit_mat.transform(X_test)"
   ]
  },
  {
   "cell_type": "code",
   "execution_count": 5,
   "metadata": {},
   "outputs": [
    {
     "data": {
      "text/plain": [
       "(34500, 3000)"
      ]
     },
     "execution_count": 5,
     "metadata": {},
     "output_type": "execute_result"
    }
   ],
   "source": [
    "vectors.legit_count, vectors.troll_count"
   ]
  },
  {
   "cell_type": "code",
   "execution_count": 6,
   "metadata": {},
   "outputs": [
    {
     "data": {
      "text/plain": [
       "((37500, 17656), (12500, 17656))"
      ]
     },
     "execution_count": 6,
     "metadata": {},
     "output_type": "execute_result"
    }
   ],
   "source": [
    "matrix.shape, matrix_test.shape"
   ]
  },
  {
   "cell_type": "code",
   "execution_count": 7,
   "metadata": {},
   "outputs": [],
   "source": [
    "# fit LDA model on training data\n",
    "lda = LDA_model(topics=35)\n",
    "lda.fit(matrix, y_train, vocab)\n",
    "lda.phi() # to evaluate coherence score\n",
    "theta = lda.theta()\n",
    "\n",
    "# get test theta for random forest evaluation\n",
    "theta_test = lda.test_theta(matrix_test)"
   ]
  },
  {
   "cell_type": "code",
   "execution_count": 8,
   "metadata": {},
   "outputs": [],
   "source": [
    "# random forest parameters\n",
    "estimators = 1000\n",
    "depth = 200\n",
    "leafs = 100\n",
    "th_hold = 0.75"
   ]
  },
  {
   "cell_type": "code",
   "execution_count": 9,
   "metadata": {},
   "outputs": [],
   "source": [
    "# balance data from LDA theata matrix\n",
    "y_smote = y_train\n",
    "theta, y_train = SMOTE().fit_resample(theta, y_train)"
   ]
  },
  {
   "cell_type": "code",
   "execution_count": 11,
   "metadata": {},
   "outputs": [],
   "source": [
    "from sklearn.metrics import f1_score"
   ]
  },
  {
   "cell_type": "code",
   "execution_count": 10,
   "metadata": {},
   "outputs": [
    {
     "name": "stdout",
     "output_type": "stream",
     "text": [
      "Random Forest Scores -- with LDA\n",
      "accuracy = 0.91536\n",
      "oob = 0.9002608695652173\n",
      "recall = 0.011\n",
      "precision = 0.1375\n"
     ]
    },
    {
     "data": {
      "image/png": "[encoded data removed]",
      "text/plain": [
       "<Figure size 432x288 with 1 Axes>"
      ]
     },
     "metadata": {
      "needs_background": "light"
     },
     "output_type": "display_data"
    }
   ],
   "source": [
    "# random forest (with LDA)\n",
    "forest = RandForest(n_estimators=estimators, max_depth=depth, max_leaf=leafs, \n",
    "                    max_features=theta.shape[1], class_weight='balanced')\n",
    "forest.fit(theta, y_train)\n",
    "probas, y_hat = forest.predict(theta_test, thresh=th_hold)\n",
    "forest.score(y_test, y_hat)\n",
    "print('Random Forest Scores -- with LDA')\n",
    "print(f'accuracy = {forest.acc}')\n",
    "print(f'oob = {forest.oob}')\n",
    "print(f'recall = {forest.recall}')\n",
    "print(f'precision = {forest.precision}')\n",
    "print(f'f_one = {forest.f_one}')\n",
    "forest.plot_confusion()"
   ]
  },
  {
   "cell_type": "code",
   "execution_count": 16,
   "metadata": {},
   "outputs": [
    {
     "data": {
      "image/png": "[encoded data removed]",
      "text/plain": [
       "<Figure size 432x288 with 1 Axes>"
      ]
     },
     "metadata": {
      "needs_background": "light"
     },
     "output_type": "display_data"
    }
   ],
   "source": [
    "thresh = plot_roc_curve(theta, y_train, lda=True) # with LDA"
   ]
  },
  {
   "cell_type": "code",
   "execution_count": 15,
   "metadata": {},
   "outputs": [
    {
     "data": {
      "image/png": "[encoded data removed]",
      "text/plain": [
       "<Figure size 432x288 with 1 Axes>"
      ]
     },
     "metadata": {
      "needs_background": "light"
     },
     "output_type": "display_data"
    }
   ],
   "source": [
    "pr_thresh = plot_prec_rec_curve(theta, y_train, lda=True)"
   ]
  },
  {
   "cell_type": "code",
   "execution_count": 11,
   "metadata": {},
   "outputs": [],
   "source": [
    "# balance data from count vectorized data\n",
    "matrix, y_train = SMOTE().fit_resample(matrix, y_smote) # y_smote saved version of y_test before LDA smote changed variable"
   ]
  },
  {
   "cell_type": "code",
   "execution_count": 12,
   "metadata": {},
   "outputs": [
    {
     "name": "stdout",
     "output_type": "stream",
     "text": [
      "Random Forest Scores -- w/out LDA\n",
      "accuracy = 0.92\n",
      "oob = 0.8733623188405797\n",
      "recall = 0.0\n",
      "precision = 0.0\n"
     ]
    },
    {
     "name": "stderr",
     "output_type": "stream",
     "text": [
      "/home/ubuntu/anaconda3/lib/python3.7/site-packages/sklearn/metrics/_classification.py:1221: UndefinedMetricWarning: Precision is ill-defined and being set to 0.0 due to no predicted samples. Use `zero_division` parameter to control this behavior.\n",
      "  _warn_prf(average, modifier, msg_start, len(result))\n"
     ]
    },
    {
     "data": {
      "image/png": "[encoded data removed]",
      "text/plain": [
       "<Figure size 432x288 with 1 Axes>"
      ]
     },
     "metadata": {
      "needs_background": "light"
     },
     "output_type": "display_data"
    }
   ],
   "source": [
    "# random forest (without LDA)\n",
    "forest = RandForest(n_estimators=estimators, max_depth=depth, max_leaf=leafs, \n",
    "                    max_features='log2', class_weight='balanced')\n",
    "forest.fit(matrix, y_train)\n",
    "probas, y_hat = forest.predict(matrix_test, thresh=th_hold)\n",
    "forest.score(y_test, y_hat)\n",
    "print('Random Forest Scores -- w/out LDA')\n",
    "print(f'accuracy = {forest.acc}')\n",
    "print(f'oob = {forest.oob}')\n",
    "print(f'recall = {forest.recall}')\n",
    "print(f'precision = {forest.precision}')\n",
    "print(f'f_one = {forest.f_one}')\n",
    "forest.plot_confusion()"
   ]
  },
  {
   "cell_type": "code",
   "execution_count": 14,
   "metadata": {},
   "outputs": [
    {
     "data": {
      "image/png": "[encoded data removed]",
      "text/plain": [
       "<Figure size 432x288 with 1 Axes>"
      ]
     },
     "metadata": {
      "needs_background": "light"
     },
     "output_type": "display_data"
    }
   ],
   "source": [
    "thresh_nolda = plot_roc_curve(matrix, y_train, lda=False) # wihtout LDA"
   ]
  },
  {
   "cell_type": "code",
   "execution_count": 13,
   "metadata": {},
   "outputs": [
    {
     "data": {
      "image/png": "[encoded data removed]",
      "text/plain": [
       "<Figure size 432x288 with 1 Axes>"
      ]
     },
     "metadata": {
      "needs_background": "light"
     },
     "output_type": "display_data"
    }
   ],
   "source": [
    "pr_thresh_nolda = plot_prec_rec_curve(matrix, y_train, lda=False)"
   ]
  },
  {
   "cell_type": "code",
   "execution_count": 11,
   "metadata": {
    "scrolled": false
   },
   "outputs": [
    {
     "name": "stdout",
     "output_type": "stream",
     "text": [
      "Topic 0:\n",
      "going watch back tax white rally got show campaign much\n",
      "Topic 1:\n",
      "election campaign gop win day right president polls voters poll\n",
      "Topic 2:\n",
      "time america vote people know khan every way never take\n",
      "Topic 3:\n",
      "obama debate man women bill presidential debatenight vote still speech\n",
      "Topic 4:\n",
      "us president cnn think even taxes family know lies people\n"
     ]
    }
   ],
   "source": [
    "lda.display_topics()"
   ]
  },
  {
   "cell_type": "code",
   "execution_count": 12,
   "metadata": {},
   "outputs": [],
   "source": [
    "from sklearn.metrics import roc_curve, precision_recall_curve\n",
    "from sklearn.model_selection import train_test_split\n",
    "\n",
    "def plot_roc_curve(X, y, lda=False, n_estimators=1000, max_depth=100, max_leaf=None):\n",
    "    \n",
    "    X_train, X_test, y_train, y_test = train_test_split(X, y, train_size=0.25, \n",
    "                                                        shuffle=True, stratify=y)\n",
    "    fig, ax = plt.subplots()\n",
    "    \n",
    "    model = RandForest(n_estimators=n_estimators, max_depth=max_depth, \n",
    "                            max_leaf=max_leaf, max_features=X.shape[1])\n",
    "    model.fit(X_train, y_train)\n",
    "    probas, y_hat = model.predict(X_test, thresh=-1)\n",
    "    fpr, tpr, thresh = roc_curve(y_test, probas[:,1])\n",
    "    \n",
    "    ax.plot(fpr, tpr)\n",
    "    ax.plot([0,1], [0,1], ls='--', color='k')\n",
    "    ax.set_xlabel('False Positive Rate')\n",
    "    ax.set_ylabel('True Positive Rate')\n",
    "    \n",
    "    if lda:\n",
    "        ax.set_title(f'Random Forest ROC Curve - with LDA')\n",
    "    else:\n",
    "        ax.set_title(f'Random Forest ROC Curve - w/out LDA')\n",
    "    \n",
    "    return thresh\n",
    "\n",
    "def plot_prec_rec_curve(X, y, lda=False, n_estimators=1000, max_depth=100, max_leaf=None, thresh=-1):\n",
    "    \n",
    "    X_train, X_test, y_train, y_test = train_test_split(X, y, train_size=0.25, \n",
    "                                                        shuffle=True, stratify=y)\n",
    "    fig, ax = plt.subplots()\n",
    "    \n",
    "    model = RandForest(n_estimators=n_estimators, max_depth=max_depth, \n",
    "                            max_leaf=max_leaf, max_features=X.shape[1])\n",
    "    model.fit(X_train, y_train)\n",
    "    probas, y_hat = model.predict(X_test, thresh=thresh)\n",
    "    precision, recall, thresh = precision_recall_curve(y_test, probas[:,1])\n",
    "    \n",
    "    ax.plot(precision, recall)\n",
    "    ax.set_xlabel('Recall')\n",
    "    ax.set_ylabel('Precision')\n",
    "    \n",
    "    if lda:\n",
    "        ax.set_title(f'Precision/Recall Curve - with LDA')\n",
    "    else:\n",
    "        ax.set_title(f'Precision/Recall Curve - w/out LDA')\n",
    "    \n",
    "    return thresh"
   ]
  },
  {
   "cell_type": "code",
   "execution_count": 16,
   "metadata": {},
   "outputs": [
    {
     "data": {
      "text/plain": [
       "-5.237078828221568"
      ]
     },
     "execution_count": 16,
     "metadata": {},
     "output_type": "execute_result"
    }
   ],
   "source": [
    "lda.coherance_score()"
   ]
  },
  {
   "cell_type": "code",
   "execution_count": 31,
   "metadata": {
    "scrolled": true
   },
   "outputs": [
    {
     "data": {
      "text/plain": [
       "-4.748669717009582"
      ]
     },
     "execution_count": 31,
     "metadata": {},
     "output_type": "execute_result"
    }
   ],
   "source": [
    "lda.coherance_score()"
   ]
  },
  {
   "cell_type": "code",
   "execution_count": null,
   "metadata": {},
   "outputs": [],
   "source": [
    "'''TOPIC COHERANCE SCORES: --> only 10k data samples'''\n",
    "# topics 2 --> -7.487219089117191\n",
    "# topics 4 --> -10.222697013007569\n",
    "# topics 6 --> -12.070494413320219\n",
    "# topics 8 --> -13.165411752758045\n",
    "# topics 10 --> -13.466351137344793\n",
    "# topics 12 --> -14.279565234962526\n",
    "# topics 14 --> -14.610241988703596\n",
    "# topics 18 --> -15.333867297657738\n",
    "# topics 20 --> -15.802765426002347\n",
    "# topics 22 --> -15.90626134524627\n",
    "# topics 24 --> -16.21720655745143\n",
    "# topics 26 --> -15.494214848919107"
   ]
  },
  {
   "cell_type": "code",
   "execution_count": 17,
   "metadata": {},
   "outputs": [],
   "source": [
    "# test for best num_topics:\n",
    "\n",
    "def test_topics(X, y, vocab, low, high, by):\n",
    "    scores = []\n",
    "    \n",
    "    for n_topic in range(low, high, by):\n",
    "        lda = LDA_model(topics=n_topic)\n",
    "        lda.fit(X, y, vocab)\n",
    "        lda.phi()\n",
    "        score = lda.coherance_score()\n",
    "        scores.append((n_topic, score))\n",
    "        \n",
    "    return scores\n",
    "\n",
    "def print_topic_score(scores):\n",
    "    for score in scores:\n",
    "        print(f'#{score[0]} --> {score[1]}')\n",
    "        \n",
    "def plot_topic_scores(scores):\n",
    "    fig, ax = plt.subplots()\n",
    "    x = [n_topics[0] for n_topics in scores]\n",
    "    y = [score[1] for score in scores]\n",
    "    \n",
    "    ax.plot(x, y)\n",
    "    ax.set_title('Coherence Score by Topic')\n",
    "    ax.set_xlabel('# of Topics')\n",
    "    ax.set_ylabel('Coherence Score');"
   ]
  },
  {
   "cell_type": "code",
   "execution_count": null,
   "metadata": {},
   "outputs": [],
   "source": [
    "topic_scores = test_topics(matrix, y_train, vocab, 2, 30, 2)"
   ]
  },
  {
   "cell_type": "code",
   "execution_count": null,
   "metadata": {},
   "outputs": [],
   "source": [
    "print_topic_scores(topic_scores)"
   ]
  },
  {
   "cell_type": "code",
   "execution_count": null,
   "metadata": {},
   "outputs": [],
   "source": [
    "plot_topic_scores(topic_scores)"
   ]
  },
  {
   "cell_type": "code",
   "execution_count": 89,
   "metadata": {},
   "outputs": [],
   "source": [
    "from sklearn.model_selection import KFold\n",
    "from sklearn.metrics import recall_score, precision_score, plot_confusion_matrix\n",
    "\n",
    "# Random Forest, X = theta, y = y_train\n",
    "def eval_random_forest(X, y, folds=15, n_estimators=500, max_depth=15, max_leaf=None):\n",
    "    \n",
    "    kf = KFold(n_splits=folds, shuffle=True)\n",
    "    accur = []\n",
    "    oob_  = []\n",
    "    rec   = []\n",
    "    prec  = []\n",
    "    f_1   = []\n",
    "    iters = 0\n",
    "    \n",
    "    for train, test in kf.split(X):\n",
    "        \n",
    "        # random forest \n",
    "        forest = RandForest(n_estimators=n_estimators, max_depth=max_depth, \n",
    "                            max_leaf=max_leaf, max_features=theta.shape[1])\n",
    "        forest.fit(X[train], y.iloc[train])\n",
    "        probas, y_hat = forest.predict(X[test])\n",
    "        forest.score(y.iloc[test], y_hat)\n",
    "        \n",
    "        accur.append(forest.acc)\n",
    "        oob_.append(forest.oob)\n",
    "        rec.append(forest.recall)\n",
    "        prec.append(forest.precision)\n",
    "        f_1.append(forest.f_one)\n",
    "        \n",
    "        iters += 1\n",
    "        if iters % 5 == 0:\n",
    "            print(iters)\n",
    "        \n",
    "    \n",
    "    return np.mean(accur), np.mean(oob_), np.mean(rec), np.mean(prec), np.mean(f_1), forest"
   ]
  },
  {
   "cell_type": "code",
   "execution_count": 90,
   "metadata": {},
   "outputs": [
    {
     "name": "stdout",
     "output_type": "stream",
     "text": [
      "5\n",
      "10\n",
      "15\n"
     ]
    }
   ],
   "source": [
    "accuracy, mean, rec, prec, model = eval_random_forest(theta, y_train)"
   ]
  },
  {
   "cell_type": "code",
   "execution_count": null,
   "metadata": {},
   "outputs": [],
   "source": [
    "'''\n",
    "Evaluate best number of estimators, leafs, and max_depth\n",
    "'''\n",
    "def test_forest_depth(X, y, depth_lst):\n",
    "    accuracy = []\n",
    "    for depth in depth_lst:\n",
    "        accuracy.append(eval_random_forest(X, y, max_depth=depth))\n",
    "        \n",
    "    return accuracy\n",
    "\n",
    "def test_forest_estimators(X, y, est_lst):\n",
    "    accuracy = []\n",
    "    for est in est_lst:\n",
    "        accuracy.append(eval_random_forest(X, y, n_estimators=est, max_depth=50))\n",
    "        \n",
    "    return accuracy\n",
    "\n",
    "def test_max_leafs(X, y, leaf_lst):\n",
    "    accuracy = []\n",
    "    for leaf in leaf_lst:\n",
    "        accuracy.append(eval_random_forest(X, y, max_leaf=leaf))\n",
    "        \n",
    "    return accuracy\n",
    "\n",
    "def plot_folds_random_forest_folds(X, y, fold_lst):\n",
    "    fig, ax = plt.subplots()\n",
    "    xs = fold_lst\n",
    "    ys = test_forest_folds(X, y, fold_lst)\n",
    "    ax.plot(xs, ys)\n",
    "    ax.set_title('Random Forest Accuracy by Folds')\n",
    "    ax.set_ylabel('Accuracy')\n",
    "    ax.set_xlabel('Folds');\n",
    "    \n",
    "def plot_depth_random_forest(X, y, depth_lst):\n",
    "    fig, ax = plt.subplots()\n",
    "    xs = depth_lst\n",
    "    ys = test_forest_depth(X, y, depth_lst)\n",
    "    ax.plot(xs, ys)\n",
    "    ax.set_title('Random Forest Accuracy by Depth')\n",
    "    ax.set_ylabel('Accuracy')\n",
    "    ax.set_xlabel('Depth');\n"
   ]
  }
 ],
 "metadata": {
  "kernelspec": {
   "display_name": "Python 3",
   "language": "python",
   "name": "python3"
  },
  "language_info": {
   "codemirror_mode": {
    "name": "ipython",
    "version": 3
   },
   "file_extension": ".py",
   "mimetype": "text/x-python",
   "name": "python",
   "nbconvert_exporter": "python",
   "pygments_lexer": "ipython3",
   "version": "3.7.1"
  }
 },
 "nbformat": 4,
 "nbformat_minor": 2
}
