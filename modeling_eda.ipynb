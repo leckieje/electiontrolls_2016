{
 "cells": [
  {
   "cell_type": "code",
   "execution_count": 48,
   "metadata": {},
   "outputs": [
    {
     "data": {
      "text/plain": [
       "(Timestamp('2009-11-24 05:21:00'), Timestamp('2018-05-30 20:58:00'))"
      ]
     },
     "execution_count": 48,
     "metadata": {},
     "output_type": "execute_result"
    }
   ],
   "source": [
    "min(troll.date), max(troll.date)"
   ]
  },
  {
   "cell_type": "code",
   "execution_count": 50,
   "metadata": {},
   "outputs": [
    {
     "data": {
      "text/plain": [
       "(Timestamp('2016-07-28 11:58:12+0000', tz='UTC'),\n",
       " Timestamp('2016-10-02 17:21:17+0000', tz='UTC'))"
      ]
     },
     "execution_count": 50,
     "metadata": {},
     "output_type": "execute_result"
    }
   ],
   "source": [
    "min(legit.date), max(legit.date)"
   ]
  },
  {
   "cell_type": "code",
   "execution_count": 56,
   "metadata": {},
   "outputs": [],
   "source": [
    "troll_window = troll[(troll['date'] >= '2016-01-01') & (troll['date'] <= '2016-11-8')]"
   ]
  },
  {
   "cell_type": "code",
   "execution_count": 57,
   "metadata": {},
   "outputs": [
    {
     "data": {
      "text/plain": [
       "827548"
      ]
     },
     "execution_count": 57,
     "metadata": {},
     "output_type": "execute_result"
    }
   ],
   "source": [
    "len(troll_window)"
   ]
  },
  {
   "cell_type": "code",
   "execution_count": 58,
   "metadata": {},
   "outputs": [
    {
     "data": {
      "text/plain": [
       "2774590"
      ]
     },
     "execution_count": 58,
     "metadata": {},
     "output_type": "execute_result"
    }
   ],
   "source": [
    "len(troll)"
   ]
  },
  {
   "cell_type": "code",
   "execution_count": 59,
   "metadata": {},
   "outputs": [
    {
     "data": {
      "text/plain": [
       "1947042"
      ]
     },
     "execution_count": 59,
     "metadata": {},
     "output_type": "execute_result"
    }
   ],
   "source": [
    "len(troll) - len(troll_window)"
   ]
  },
  {
   "cell_type": "code",
   "execution_count": 91,
   "metadata": {},
   "outputs": [
    {
     "data": {
      "text/plain": [
       "(Timestamp('2016-10-07 01:37:45+0000', tz='UTC'),\n",
       " Timestamp('2016-10-10 17:00:52+0000', tz='UTC'))"
      ]
     },
     "execution_count": 91,
     "metadata": {},
     "output_type": "execute_result"
    }
   ],
   "source": [
    "min(second_debate.date), max(second_debate.date)"
   ]
  },
  {
   "cell_type": "code",
   "execution_count": null,
   "metadata": {},
   "outputs": [],
   "source": []
  },
  {
   "cell_type": "markdown",
   "metadata": {},
   "source": [
    "### NLP Pipeline:"
   ]
  },
  {
   "cell_type": "code",
   "execution_count": 1,
   "metadata": {},
   "outputs": [],
   "source": [
    "import pandas as pd \n",
    "import numpy as np\n",
    "import matplotlib.pyplot as plt\n",
    "from nltk.corpus import stopwords, words\n",
    "\n",
    "from sklearn.feature_extraction.text import CountVectorizer, TfidfVectorizer\n",
    "from sklearn.model_selection import train_test_split\n",
    "from sklearn.decomposition import LatentDirichletAllocation"
   ]
  },
  {
   "cell_type": "code",
   "execution_count": 2,
   "metadata": {},
   "outputs": [
    {
     "data": {
      "text/plain": [
       "\"\\ncolumn schema:\\n'ocation' = location of tweeter, NA = missing in original data\\n'rdate' = date/time tweet was made\\n'user' = twitter account holder\\n'text' = text of tweet\\n'letweets' = number of retweets, -1 = missing in original data\\n'favs' = number of favorites, -1 = missing in original data\\n'is_retweet' = 0, 1 indicator if tweet is retweet (1 is positve class, -1 = missing in original data)\\n'legit' = 0 indicates troll, 1 indicates legitimate\\n\\ntroll = 2,774,590\\nlegit = 4,992,304\\ntotal = 7,766,894\\n\\n\\nLegit time = \\n\\tMin = ('2016-07-28 11:58:12+0000'),\\n\\tMax = ('2016-10-02 17:21:17+0000')\\n\\nTroll time = \\n\\tMin = ('2009-11-24 05:21:00'),\\n\\tMax = ('2018-05-30 20:58:00')\\n\""
      ]
     },
     "execution_count": 2,
     "metadata": {},
     "output_type": "execute_result"
    }
   ],
   "source": [
    "# Capstone 3 Notes\n",
    "\n",
    "'''\n",
    "Use = clean_data/ ...\n",
    "\n",
    "\t- legit_tweets\n",
    "\t- troll_tweets\n",
    "\t- second_debate\n",
    "\t- third_debate\n",
    "'''\n",
    "\n",
    "# columns = 'date', 'user', 'text', 'location', 'retweets', 'favs', 'is_retweet'\n",
    "\n",
    "'''\n",
    "column schema:\n",
    "'ocation' = location of tweeter, NA = missing in original data\n",
    "'rdate' = date/time tweet was made\n",
    "'user' = twitter account holder\n",
    "'text' = text of tweet\n",
    "'letweets' = number of retweets, -1 = missing in original data\n",
    "'favs' = number of favorites, -1 = missing in original data\n",
    "'is_retweet' = 0, 1 indicator if tweet is retweet (1 is positve class, -1 = missing in original data)\n",
    "'legit' = 0 indicates troll, 1 indicates legitimate\n",
    "\n",
    "troll = 2,774,590\n",
    "legit = 4,992,304\n",
    "total = 7,766,894\n",
    "\n",
    "\n",
    "Legit time = \n",
    "\tMin = ('2016-07-28 11:58:12+0000'),\n",
    "\tMax = ('2016-10-02 17:21:17+0000')\n",
    "\n",
    "Troll time = \n",
    "\tMin = ('2009-11-24 05:21:00'),\n",
    "\tMax = ('2018-05-30 20:58:00')\n",
    "'''"
   ]
  },
  {
   "cell_type": "code",
   "execution_count": 3,
   "metadata": {},
   "outputs": [],
   "source": [
    "# clean tweets hydrated from GWU\n",
    "def clean_hydrated(filepath):  \n",
    "    df = pd.read_csv(filepath)\n",
    "    df = df[df['lang'] == 'en']\n",
    "    df = df.loc[:, ['created_at', 'user_screen_name', 'text', 'user_location', 'retweet_count', 'favorite_count']]\n",
    "    df.rename(columns={'created_at': 'date', 'user_screen_name': 'user', 'text': 'text', 'user_location': 'location', \n",
    "                       'retweet_count': 'retweets', 'favorite_count': 'favs'}, inplace=True)\n",
    "    df.drop_duplicates(ignore_index=True, inplace=True)\n",
    "    df['date'] = pd.to_datetime(df['date'], infer_datetime_format=True)\n",
    "    df['legit'] = 1\n",
    "    \n",
    "    return df\n",
    "\n",
    "# generating stop words\n",
    "custom_stops = []\n",
    "\n",
    "def get_stop_words(custom_stops):\n",
    "    sw = stopwords.words('english')\n",
    "    \n",
    "    return sw + stops\n",
    "\n",
    "# sklearn count vectorizer\n",
    "def get_countvec(corpus, stop_words='english', min_df=.01, n_grams=(1,1)):\n",
    "    vectorizer = CountVectorizer(stop_words=stop_words, min_df=min_df, ngram_range=n_grams)\n",
    "    X = vectorizer.fit_transform(corpus)\n",
    "    feature_names = vectorizer.get_feature_names()\n",
    "    \n",
    "    return feature_names, X.toarray()\n",
    "\n",
    "# sklearn tfidf vectorizer\n",
    "def get_tfidf(corpus, max_features=None, min_df=.01, stop_words='english', n_grams=(1,1)):\n",
    "    vectorizer = TfidfVectorizer(max_features=None, min_df=min_df, max_df=1.0, stop_words='english', ngram_range=n_grams)\n",
    "    X = vectorizer.fit_transform(corpus)\n",
    "    feature_names = vectorizer.get_feature_names()\n",
    "    \n",
    "    return feature_names, X.toarray()\n",
    "\n",
    "# vectorizer to dataframe\n",
    "def get_dataframe(X, feature_names):\n",
    "    df = pd.DataFrame(data = X, columns = feature_names)\n",
    "    return df\n",
    "\n",
    "# get random samples\n",
    "def get_random_sample(df, num_samples):\n",
    "    samp_idx = np.random.choice(range(len(df)), size=num_samples, replace=False)\n",
    "    df_samp = df.iloc[samp_idx, :]\n",
    "    return df_samp"
   ]
  },
  {
   "cell_type": "markdown",
   "metadata": {},
   "source": [
    "len(troll_summer) = 1206477"
   ]
  },
  {
   "cell_type": "code",
   "execution_count": 4,
   "metadata": {},
   "outputs": [
    {
     "name": "stderr",
     "output_type": "stream",
     "text": [
      "/home/ubuntu/anaconda3/lib/python3.7/site-packages/IPython/core/interactiveshell.py:3020: DtypeWarning: Columns (8) have mixed types. Specify dtype option on import or set low_memory=False.\n",
      "  interactivity=interactivity, compiler=compiler, result=result)\n",
      "/home/ubuntu/anaconda3/lib/python3.7/site-packages/IPython/core/interactiveshell.py:3020: DtypeWarning: Columns (5) have mixed types. Specify dtype option on import or set low_memory=False.\n",
      "  interactivity=interactivity, compiler=compiler, result=result)\n"
     ]
    }
   ],
   "source": [
    "# load\n",
    "legit = pd.read_csv('data/legit_tweets.csv', parse_dates = ['date'])\n",
    "troll = pd.read_csv('data/troll_tweets.csv', parse_dates = ['date'])\n",
    "legit['legit'] = 1"
   ]
  },
  {
   "cell_type": "code",
   "execution_count": 5,
   "metadata": {},
   "outputs": [],
   "source": [
    "# limit troll timeframe\n",
    "troll_summer = troll[(troll['date'] > '2016-06-28') & (troll['date'] > '2016-11-02')]"
   ]
  },
  {
   "cell_type": "code",
   "execution_count": 6,
   "metadata": {},
   "outputs": [],
   "source": [
    "# get samples\n",
    "troll_samp = get_random_sample(troll_summer, 700000)\n",
    "legit_samp = get_random_sample(legit, 700000)"
   ]
  },
  {
   "cell_type": "code",
   "execution_count": 10,
   "metadata": {},
   "outputs": [],
   "source": [
    "# combine legit and troll tweets\n",
    "total_tweets = pd.concat([legit_samp.loc[:,['text','legit']], troll_samp.loc[:,['text','legit']]])\n",
    "total_tweets.reset_index(drop=True, inplace=True)"
   ]
  },
  {
   "cell_type": "code",
   "execution_count": 11,
   "metadata": {},
   "outputs": [],
   "source": [
    "# set X and y, split\n",
    "# if NaN errror during trainn, test, split, run --> legit['legit'] = 1 \n",
    "X = total_tweets['text']\n",
    "y = total_tweets['legit']\n",
    "X_train, X_test, y_train, y_test = train_test_split(X, y, test_size=0.25, stratify=y)"
   ]
  },
  {
   "cell_type": "code",
   "execution_count": 17,
   "metadata": {},
   "outputs": [],
   "source": [
    "# stop words\n",
    "sw = stopwords.words('english') # eventually, get_stopwords(), no custom words yet\n",
    "custom_stops = ['https', 'rt']\n",
    "stop_words = sw + custom_stops\n",
    "\n",
    "# count vetorizer\n",
    "vocab_count, count_vec = get_countvec(X_train, stop_words=stop_words, min_df=0.005, n_grams=(1,2))"
   ]
  },
  {
   "cell_type": "code",
   "execution_count": 18,
   "metadata": {},
   "outputs": [],
   "source": [
    "count_df = pd.DataFrame(data=count_vec, columns=vocab_count)"
   ]
  },
  {
   "cell_type": "code",
   "execution_count": 19,
   "metadata": {},
   "outputs": [
    {
     "data": {
      "text/plain": [
       "(1050000, 187)"
      ]
     },
     "execution_count": 19,
     "metadata": {},
     "output_type": "execute_result"
    }
   ],
   "source": [
    "count_df.shape"
   ]
  },
  {
   "cell_type": "code",
   "execution_count": 20,
   "metadata": {},
   "outputs": [
    {
     "data": {
      "text/html": [
       "<div>\n",
       "<style scoped>\n",
       "    .dataframe tbody tr th:only-of-type {\n",
       "        vertical-align: middle;\n",
       "    }\n",
       "\n",
       "    .dataframe tbody tr th {\n",
       "        vertical-align: top;\n",
       "    }\n",
       "\n",
       "    .dataframe thead th {\n",
       "        text-align: right;\n",
       "    }\n",
       "</style>\n",
       "<table border=\"1\" class=\"dataframe\">\n",
       "  <thead>\n",
       "    <tr style=\"text-align: right;\">\n",
       "      <th></th>\n",
       "      <th>10</th>\n",
       "      <th>2016</th>\n",
       "      <th>actually</th>\n",
       "      <th>america</th>\n",
       "      <th>american</th>\n",
       "      <th>americans</th>\n",
       "      <th>amp</th>\n",
       "      <th>anti</th>\n",
       "      <th>attack</th>\n",
       "      <th>bad</th>\n",
       "      <th>...</th>\n",
       "      <th>white house</th>\n",
       "      <th>win</th>\n",
       "      <th>woman</th>\n",
       "      <th>women</th>\n",
       "      <th>won</th>\n",
       "      <th>work</th>\n",
       "      <th>world</th>\n",
       "      <th>wrong</th>\n",
       "      <th>year</th>\n",
       "      <th>years</th>\n",
       "    </tr>\n",
       "  </thead>\n",
       "  <tbody>\n",
       "    <tr>\n",
       "      <th>0</th>\n",
       "      <td>0</td>\n",
       "      <td>0</td>\n",
       "      <td>0</td>\n",
       "      <td>0</td>\n",
       "      <td>0</td>\n",
       "      <td>0</td>\n",
       "      <td>0</td>\n",
       "      <td>0</td>\n",
       "      <td>0</td>\n",
       "      <td>0</td>\n",
       "      <td>...</td>\n",
       "      <td>0</td>\n",
       "      <td>0</td>\n",
       "      <td>0</td>\n",
       "      <td>0</td>\n",
       "      <td>0</td>\n",
       "      <td>0</td>\n",
       "      <td>0</td>\n",
       "      <td>0</td>\n",
       "      <td>1</td>\n",
       "      <td>0</td>\n",
       "    </tr>\n",
       "    <tr>\n",
       "      <th>1</th>\n",
       "      <td>0</td>\n",
       "      <td>0</td>\n",
       "      <td>0</td>\n",
       "      <td>0</td>\n",
       "      <td>0</td>\n",
       "      <td>0</td>\n",
       "      <td>0</td>\n",
       "      <td>0</td>\n",
       "      <td>0</td>\n",
       "      <td>1</td>\n",
       "      <td>...</td>\n",
       "      <td>0</td>\n",
       "      <td>0</td>\n",
       "      <td>0</td>\n",
       "      <td>0</td>\n",
       "      <td>0</td>\n",
       "      <td>0</td>\n",
       "      <td>0</td>\n",
       "      <td>0</td>\n",
       "      <td>0</td>\n",
       "      <td>0</td>\n",
       "    </tr>\n",
       "    <tr>\n",
       "      <th>2</th>\n",
       "      <td>0</td>\n",
       "      <td>0</td>\n",
       "      <td>0</td>\n",
       "      <td>0</td>\n",
       "      <td>0</td>\n",
       "      <td>0</td>\n",
       "      <td>0</td>\n",
       "      <td>0</td>\n",
       "      <td>0</td>\n",
       "      <td>0</td>\n",
       "      <td>...</td>\n",
       "      <td>0</td>\n",
       "      <td>0</td>\n",
       "      <td>0</td>\n",
       "      <td>0</td>\n",
       "      <td>0</td>\n",
       "      <td>0</td>\n",
       "      <td>0</td>\n",
       "      <td>0</td>\n",
       "      <td>0</td>\n",
       "      <td>0</td>\n",
       "    </tr>\n",
       "    <tr>\n",
       "      <th>3</th>\n",
       "      <td>0</td>\n",
       "      <td>0</td>\n",
       "      <td>0</td>\n",
       "      <td>0</td>\n",
       "      <td>0</td>\n",
       "      <td>0</td>\n",
       "      <td>0</td>\n",
       "      <td>0</td>\n",
       "      <td>0</td>\n",
       "      <td>0</td>\n",
       "      <td>...</td>\n",
       "      <td>0</td>\n",
       "      <td>0</td>\n",
       "      <td>0</td>\n",
       "      <td>0</td>\n",
       "      <td>0</td>\n",
       "      <td>0</td>\n",
       "      <td>0</td>\n",
       "      <td>0</td>\n",
       "      <td>1</td>\n",
       "      <td>0</td>\n",
       "    </tr>\n",
       "    <tr>\n",
       "      <th>4</th>\n",
       "      <td>0</td>\n",
       "      <td>0</td>\n",
       "      <td>0</td>\n",
       "      <td>0</td>\n",
       "      <td>0</td>\n",
       "      <td>0</td>\n",
       "      <td>0</td>\n",
       "      <td>0</td>\n",
       "      <td>0</td>\n",
       "      <td>0</td>\n",
       "      <td>...</td>\n",
       "      <td>0</td>\n",
       "      <td>0</td>\n",
       "      <td>0</td>\n",
       "      <td>0</td>\n",
       "      <td>0</td>\n",
       "      <td>0</td>\n",
       "      <td>0</td>\n",
       "      <td>0</td>\n",
       "      <td>0</td>\n",
       "      <td>0</td>\n",
       "    </tr>\n",
       "  </tbody>\n",
       "</table>\n",
       "<p>5 rows × 187 columns</p>\n",
       "</div>"
      ],
      "text/plain": [
       "   10  2016  actually  america  american  americans  amp  anti  attack  bad  \\\n",
       "0   0     0         0        0         0          0    0     0       0    0   \n",
       "1   0     0         0        0         0          0    0     0       0    1   \n",
       "2   0     0         0        0         0          0    0     0       0    0   \n",
       "3   0     0         0        0         0          0    0     0       0    0   \n",
       "4   0     0         0        0         0          0    0     0       0    0   \n",
       "\n",
       "   ...    white house  win  woman  women  won  work  world  wrong  year  years  \n",
       "0  ...              0    0      0      0    0     0      0      0     1      0  \n",
       "1  ...              0    0      0      0    0     0      0      0     0      0  \n",
       "2  ...              0    0      0      0    0     0      0      0     0      0  \n",
       "3  ...              0    0      0      0    0     0      0      0     1      0  \n",
       "4  ...              0    0      0      0    0     0      0      0     0      0  \n",
       "\n",
       "[5 rows x 187 columns]"
      ]
     },
     "execution_count": 20,
     "metadata": {},
     "output_type": "execute_result"
    }
   ],
   "source": [
    "count_df.head()"
   ]
  },
  {
   "cell_type": "code",
   "execution_count": 21,
   "metadata": {},
   "outputs": [],
   "source": [
    "def get_word_freq(df):\n",
    "    series = df.sum()\n",
    "    series = series.apply(lambda x: x/len(series))\n",
    "    return series"
   ]
  },
  {
   "cell_type": "code",
   "execution_count": 22,
   "metadata": {},
   "outputs": [],
   "source": [
    "count_freq = get_word_freq(count_df)"
   ]
  },
  {
   "cell_type": "code",
   "execution_count": 23,
   "metadata": {
    "scrolled": true
   },
   "outputs": [
    {
     "data": {
      "text/plain": [
       "https                5275.663102\n",
       "trump                2121.951872\n",
       "rt                   2121.823529\n",
       "clinton               573.566845\n",
       "hillary               417.486631\n",
       "donald                405.385027\n",
       "donald trump          381.090909\n",
       "amp                   285.283422\n",
       "just                  238.374332\n",
       "realdonaldtrump       223.283422\n",
       "hillaryclinton        203.449198\n",
       "hillary clinton       194.871658\n",
       "election              192.919786\n",
       "people                178.561497\n",
       "like                  174.727273\n",
       "new                   171.288770\n",
       "obama                 160.502674\n",
       "president             157.550802\n",
       "don                   148.652406\n",
       "says                  126.748663\n",
       "trump https           125.909091\n",
       "rt hillaryclinton     123.326203\n",
       "man                   121.994652\n",
       "debate                117.689840\n",
       "vote                  116.433155\n",
       "video                 113.379679\n",
       "time                  107.695187\n",
       "america               105.860963\n",
       "know                  103.438503\n",
       "breaking               99.117647\n",
       "                        ...     \n",
       "putin                  32.657754\n",
       "sure                   32.128342\n",
       "nuclear                31.882353\n",
       "trying                 31.791444\n",
       "hate                   31.737968\n",
       "foundation             31.652406\n",
       "week                   31.588235\n",
       "job                    31.288770\n",
       "business               30.834225\n",
       "change                 30.582888\n",
       "actually               30.433155\n",
       "polls                  30.251337\n",
       "check                  30.219251\n",
       "wrong                  29.877005\n",
       "come                   29.839572\n",
       "truth                  29.818182\n",
       "usa                    29.754011\n",
       "president trump        29.700535\n",
       "john                   29.566845\n",
       "star                   29.470588\n",
       "lost                   29.395722\n",
       "trump says             29.224599\n",
       "home                   29.187166\n",
       "death                  29.096257\n",
       "dead                   29.016043\n",
       "thank                  28.925134\n",
       "days                   28.850267\n",
       "trump supporters       28.770053\n",
       "returns                28.770053\n",
       "trump campaign         28.620321\n",
       "Length: 187, dtype: float64"
      ]
     },
     "execution_count": 23,
     "metadata": {},
     "output_type": "execute_result"
    }
   ],
   "source": [
    "count_freq.sort_values(ascending=False)"
   ]
  },
  {
   "cell_type": "code",
   "execution_count": 150,
   "metadata": {},
   "outputs": [],
   "source": [
    "sorted_word_count = count_df.sum().sort_values(ascending=False)"
   ]
  },
  {
   "cell_type": "code",
   "execution_count": 151,
   "metadata": {},
   "outputs": [
    {
     "data": {
      "text/plain": [
       "https       4998560\n",
       "co          4604796\n",
       "https co    4589653\n",
       "trump       3313011\n",
       "rt          3109453\n",
       "             ...   \n",
       "stop          67091\n",
       "country       66820\n",
       "russia        66143\n",
       "rally         65831\n",
       "last          65817\n",
       "Length: 89, dtype: int64"
      ]
     },
     "execution_count": 151,
     "metadata": {},
     "output_type": "execute_result"
    }
   ],
   "source": [
    "sorted_word_count"
   ]
  },
  {
   "cell_type": "code",
   "execution_count": null,
   "metadata": {},
   "outputs": [],
   "source": []
  },
  {
   "cell_type": "code",
   "execution_count": 126,
   "metadata": {},
   "outputs": [
    {
     "data": {
      "text/plain": [
       "2774590"
      ]
     },
     "execution_count": 126,
     "metadata": {},
     "output_type": "execute_result"
    }
   ],
   "source": [
    "len(troll.legit)"
   ]
  },
  {
   "cell_type": "code",
   "execution_count": null,
   "metadata": {},
   "outputs": [],
   "source": [
    "count_df['legit'] = count_df[count_df[]]"
   ]
  },
  {
   "cell_type": "code",
   "execution_count": null,
   "metadata": {},
   "outputs": [],
   "source": [
    "legit_count = y"
   ]
  },
  {
   "cell_type": "markdown",
   "metadata": {},
   "source": [
    "### EDA"
   ]
  },
  {
   "cell_type": "code",
   "execution_count": null,
   "metadata": {},
   "outputs": [],
   "source": [
    "# chart word frequencies by class\n",
    "# chart topics by class "
   ]
  },
  {
   "cell_type": "code",
   "execution_count": null,
   "metadata": {},
   "outputs": [],
   "source": []
  },
  {
   "cell_type": "markdown",
   "metadata": {},
   "source": [
    "### LDA"
   ]
  },
  {
   "cell_type": "code",
   "execution_count": 26,
   "metadata": {},
   "outputs": [],
   "source": [
    "lda = LatentDirichletAllocation(n_components=5, n_jobs=-1, learning_method='online', max_iter=5)"
   ]
  },
  {
   "cell_type": "code",
   "execution_count": 27,
   "metadata": {},
   "outputs": [
    {
     "data": {
      "text/plain": [
       "LatentDirichletAllocation(learning_method='online', n_components=5, n_jobs=-1)"
      ]
     },
     "execution_count": 27,
     "metadata": {},
     "output_type": "execute_result"
    }
   ],
   "source": [
    "lda.fit(count_df)"
   ]
  },
  {
   "cell_type": "code",
   "execution_count": null,
   "metadata": {},
   "outputs": [],
   "source": []
  },
  {
   "cell_type": "code",
   "execution_count": 29,
   "metadata": {},
   "outputs": [],
   "source": [
    "def display_topics(model, feature_names, num_top_words):\n",
    "    for topic_idx, topic in enumerate(model.components_):\n",
    "        print(\"Topic %d:\" % (topic_idx))\n",
    "        print(\" \".join([feature_names[i]\n",
    "                        for i in topic.argsort()[:-num_top_words - 1:-1]]))"
   ]
  },
  {
   "cell_type": "code",
   "execution_count": 30,
   "metadata": {},
   "outputs": [
    {
     "name": "stdout",
     "output_type": "stream",
     "text": [
      "Topic 0:\n",
      "rt realdonaldtrump hillaryclinton don rt hillaryclinton said think want good women\n",
      "Topic 1:\n",
      "https rt amp trump election people vote say media white\n",
      "Topic 2:\n",
      "https trump rt donald donald trump like new says trump https man\n",
      "Topic 3:\n",
      "https rt trump just president america know make did police\n",
      "Topic 4:\n",
      "https clinton hillary rt trump hillary clinton obama video time debate\n"
     ]
    }
   ],
   "source": [
    "num_top_words = 10\n",
    "display_topics(lda, vocab_count, num_top_words)"
   ]
  },
  {
   "cell_type": "code",
   "execution_count": 39,
   "metadata": {},
   "outputs": [
    {
     "data": {
      "text/plain": [
       "(187,)"
      ]
     },
     "execution_count": 39,
     "metadata": {},
     "output_type": "execute_result"
    }
   ],
   "source": [
    "phi = lda.components_"
   ]
  },
  {
   "cell_type": "code",
   "execution_count": 41,
   "metadata": {},
   "outputs": [],
   "source": [
    "theta = lda.transform(count_df)"
   ]
  },
  {
   "cell_type": "code",
   "execution_count": 45,
   "metadata": {},
   "outputs": [],
   "source": [
    "topic_likelihood = np.argmax(theta, axis=1) # returns column index of most likely topic "
   ]
  },
  {
   "cell_type": "code",
   "execution_count": 46,
   "metadata": {},
   "outputs": [
    {
     "data": {
      "text/plain": [
       "array([2, 4, 4, ..., 4, 2, 0])"
      ]
     },
     "execution_count": 46,
     "metadata": {},
     "output_type": "execute_result"
    }
   ],
   "source": [
    "topic_likelihood"
   ]
  },
  {
   "cell_type": "code",
   "execution_count": 51,
   "metadata": {},
   "outputs": [
    {
     "data": {
      "text/plain": [
       "(1050000,)"
      ]
     },
     "execution_count": 51,
     "metadata": {},
     "output_type": "execute_result"
    }
   ],
   "source": [
    "topic_likelihood.shape"
   ]
  },
  {
   "cell_type": "code",
   "execution_count": 42,
   "metadata": {},
   "outputs": [
    {
     "name": "stdout",
     "output_type": "stream",
     "text": [
      "[[1 1 3]\n",
      " [1 2 1]]\n",
      "[0 1 0]\n",
      "[2 1]\n"
     ]
    }
   ],
   "source": [
    "an_array = np.array([[1, 1, 3], [1, 2, 1]])\n",
    "print(an_array)\n",
    "\n",
    "max_index_col = np.argmax(an_array, axis=0) # 0 finds column indices\n",
    "print(max_index_col)\n",
    "\n",
    "max_index_row = np.argmax(an_array, axis=1) #1 finds row indices\n",
    "print(max_index_row)"
   ]
  },
  {
   "cell_type": "code",
   "execution_count": null,
   "metadata": {},
   "outputs": [],
   "source": []
  },
  {
   "cell_type": "code",
   "execution_count": null,
   "metadata": {},
   "outputs": [],
   "source": []
  },
  {
   "cell_type": "code",
   "execution_count": null,
   "metadata": {},
   "outputs": [],
   "source": []
  },
  {
   "cell_type": "code",
   "execution_count": null,
   "metadata": {},
   "outputs": [],
   "source": []
  },
  {
   "cell_type": "code",
   "execution_count": null,
   "metadata": {},
   "outputs": [],
   "source": [
    "# frrom sklearn\n",
    "def plot_top_words(model, feature_names, n_top_words, title):\n",
    "    fig, axes = plt.subplots(2, 5, figsize=(30, 15), sharex=True)\n",
    "    axes = axes.flatten()\n",
    "    for topic_idx, topic in enumerate(model.components_):\n",
    "        top_features_ind = topic.argsort()[:-n_top_words - 1:-1]\n",
    "        top_features = [feature_names[i] for i in top_features_ind]\n",
    "        weights = topic[top_features_ind]\n",
    "\n",
    "        ax = axes[topic_idx]\n",
    "        ax.barh(top_features, weights, height=0.7)\n",
    "        ax.set_title(f'Topic {topic_idx +1}',\n",
    "                     fontdict={'fontsize': 30})\n",
    "        ax.invert_yaxis()\n",
    "        ax.tick_params(axis='both', which='major', labelsize=20)\n",
    "        for i in 'top right left'.split():\n",
    "            ax.spines[i].set_visible(False)\n",
    "        fig.suptitle(title, fontsize=40)\n",
    "\n",
    "    plt.subplots_adjust(top=0.90, bottom=0.05, wspace=0.90, hspace=0.3)\n",
    "    plt.show()"
   ]
  }
 ],
 "metadata": {
  "kernelspec": {
   "display_name": "Python 3",
   "language": "python",
   "name": "python3"
  },
  "language_info": {
   "codemirror_mode": {
    "name": "ipython",
    "version": 3
   },
   "file_extension": ".py",
   "mimetype": "text/x-python",
   "name": "python",
   "nbconvert_exporter": "python",
   "pygments_lexer": "ipython3",
   "version": "3.7.1"
  }
 },
 "nbformat": 4,
 "nbformat_minor": 5
}
