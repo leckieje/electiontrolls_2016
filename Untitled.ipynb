{
 "cells": [
  {
   "cell_type": "code",
   "execution_count": 3,
   "metadata": {},
   "outputs": [],
   "source": [
    "# from src.eda_vector import *\n",
    "from src.lda_model import *\n",
    "from src.model import *"
   ]
  },
  {
   "cell_type": "code",
   "execution_count": 134,
   "metadata": {},
   "outputs": [
    {
     "name": "stderr",
     "output_type": "stream",
     "text": [
      "/home/ubuntu/anaconda3/lib/python3.7/site-packages/IPython/core/interactiveshell.py:3185: DtypeWarning: Columns (8) have mixed types.Specify dtype option on import or set low_memory=False.\n",
      "  if (yield from self.run_code(code, result)):\n",
      "/home/ubuntu/anaconda3/lib/python3.7/site-packages/IPython/core/interactiveshell.py:3185: DtypeWarning: Columns (5) have mixed types.Specify dtype option on import or set low_memory=False.\n",
      "  if (yield from self.run_code(code, result)):\n"
     ]
    }
   ],
   "source": [
    "X_train, X_test, y_train, y_test = get_data(num_samples=50000, balanced=True)"
   ]
  },
  {
   "cell_type": "code",
   "execution_count": 135,
   "metadata": {},
   "outputs": [],
   "source": [
    "custom_stops = ['https', 'rt', 'co', 'amp', 'via', 'go', 'get', 'said', 'say', 'news', 'new', 'make', 'want']"
   ]
  },
  {
   "cell_type": "code",
   "execution_count": 160,
   "metadata": {},
   "outputs": [],
   "source": [
    "import pandas as pd \n",
    "import numpy as np\n",
    "import matplotlib.pyplot as plt\n",
    "from nltk.corpus import stopwords, words\n",
    "\n",
    "from sklearn.feature_extraction.text import CountVectorizer, TfidfVectorizer\n",
    "from sklearn.model_selection import train_test_split\n",
    "\n",
    "\n",
    "class EDA_vec():\n",
    "\n",
    "    def __init__(self, X, y):\n",
    "        self.X = X\n",
    "        self.y = y.values\n",
    "        self.legit_count = sum(y)\n",
    "        self.troll_count = len(y) - sum(y)\n",
    "        self.troll_dist = (len(y) - sum(y)) / len(y)\n",
    "        self.legit_dist = sum(y) / len(y)\n",
    "        self.legit_freq = None\n",
    "        self.troll_freq = None\n",
    "        self.freq_diff = None\n",
    "        self.stop_words = stopwords.words('english')\n",
    "        self.features = None \n",
    "        self.vec_data = None\n",
    "        self.vec_shape = None\n",
    "\n",
    "    def add_stop_words(self, custom_stops):\n",
    "        sw = self.stop_words + custom_stops\n",
    "        self.stop_words = sw\n",
    "\n",
    "    def vectorize(self, vec_type='count', min_df=.01, max_df=1.0, n_grams=(1,2), max_features=None):\n",
    "        if vec_type == 'count':\n",
    "            vectorizer = CountVectorizer(stop_words=self.stop_words, min_df=min_df, ngram_range=n_grams)\n",
    "        elif vec_type == 'tfidf':\n",
    "            vectorizer = TfidfVectorizer(max_features=max_features, min_df=min_df, max_df=max_df, stop_words=self.stop_words, ngram_range=n_grams)\n",
    "        else:\n",
    "            print('Please specify a vector type')\n",
    "\n",
    "        self.vec_data = vectorizer.fit_transform(self.X)\n",
    "        self.features = vectorizer.get_feature_names()\n",
    "        self.vec_shape = self.vec_data.shape\n",
    "    \n",
    "        return self.features, self.vec_data.toarray()\n",
    "\n",
    "    # diff in word frequenncy\n",
    "    def word_freq(self):\n",
    "        df = pd.DataFrame(data=self.vec_data.toarray(), columns=self.features)\n",
    "        df['legit'] = self.y\n",
    "        legit = df[df['legit'] == 1]\n",
    "        troll = df[df['legit'] == 0]\n",
    "        legit_fr = legit.sum().apply(lambda x: x/len(legit))\n",
    "        troll_fr = troll.sum().apply(lambda x: x/len(troll))\n",
    "        self.legit_freq = legit_fr.sort_values(ascending=False)\n",
    "        self.troll_freq = troll_fr.sort_values(ascending=False)\n",
    "\n",
    "    def chart_word_freq(self, word_lst=None, low_words=0, high_words=5):\n",
    "        fig, ax = plt.subplots()\n",
    "        \n",
    "        df = pd.concat([self.troll_freq, self.legit_freq,], axis=1)\n",
    "        df['diff'] = np.abs(df[0] - df[1])\n",
    "        df.sort_values(by='diff', ascending=False, inplace=True)\n",
    "        self.freq_diff = df\n",
    "        \n",
    "        if not word_lst:\n",
    "            word_lst = df.index[low_words+1:high_words+1]\n",
    "        \n",
    "        labels = word_lst # adjust words here\n",
    "        legi = df.loc[word_lst, 1]\n",
    "        trol = df.loc[word_lst, 0]\n",
    "        \n",
    "        x = np.arange(len(labels))\n",
    "        width = 0.35\n",
    "        legit_bar = ax.bar(x-width/2, legi, width, label='Legit')\n",
    "        troll_bar = ax.bar(x+width/2, trol, width, label='Troll')\n",
    "        \n",
    "        ax.set_ylabel('Frequency')\n",
    "        ax.set_title('Word Use Frequency')\n",
    "        ax.set_xticks(x)\n",
    "        ax.set_xticklabels(labels)\n",
    "        ax.legend()\n",
    "\n",
    "        fig.tight_layout();\n",
    "    \n",
    "    # top words/ class\n",
    "    def word_freq_df(self):\n",
    "        df = pd.concat([self.troll_freq, self.legit_freq,], axis=1)\n",
    "        df['diff'] = np.abs(df[0] - df[1])\n",
    "        df.sort_values(by='diff', ascending=False, inplace=True)\n",
    "        \n",
    "        return df\n",
    "    \n",
    "    def top_words(self, low=0, high=5):\n",
    "        legit_words = self.legit_freq.index[low+1:high+1]\n",
    "        troll_words = self.troll_freq.index[low+1:high+1]\n",
    "        \n",
    "        return troll_words, legit_words\n",
    "    \n",
    "    def chart_top_words(self, low=0, high=6):\n",
    "        fig, ax = plt.subplots(2)\n",
    "        legit_words = self.legit_freq.index[low+1:high+1]\n",
    "        troll_words = self.troll_freq.index[low+1:high+1]\n",
    "        \n",
    "        x = np.arange(len(troll_words))\n",
    "        ax[0].bar(x, self.legit_freq[legit_words])\n",
    "        ax[1].bar(x, self.troll_freq[troll_words])\n",
    "        \n",
    "        ax[0].set_title('Top Words: Legit')\n",
    "        ax[0].set_ylabel('Frequency')\n",
    "        ax[0].set_xticklabels(legit_words)\n",
    "        \n",
    "        ax[1].set_title('Top Words: Trolls')\n",
    "        ax[1].set_ylabel('Frequency')\n",
    "        ax[1].set_xticklabels(troll_words)\n",
    "        \n",
    "        fig.tight_layout()\n",
    "\n",
    "    # vectorizer to dataframe\n",
    "    def _get_dataframe(self):\n",
    "        return pd.DataFrame(data=self.vec_data.toarray(), columns=self.features)"
   ]
  },
  {
   "cell_type": "code",
   "execution_count": 161,
   "metadata": {},
   "outputs": [],
   "source": [
    "vectors = EDA_vec(X_train, y_train)"
   ]
  },
  {
   "cell_type": "code",
   "execution_count": 162,
   "metadata": {},
   "outputs": [],
   "source": [
    "vectors.add_stop_words(custom_stops)"
   ]
  },
  {
   "cell_type": "code",
   "execution_count": 163,
   "metadata": {},
   "outputs": [],
   "source": [
    "vocab, matrix = vectors.vectorize()"
   ]
  },
  {
   "cell_type": "code",
   "execution_count": 164,
   "metadata": {
    "scrolled": false
   },
   "outputs": [],
   "source": [
    "vectors.word_freq()"
   ]
  },
  {
   "cell_type": "code",
   "execution_count": 165,
   "metadata": {},
   "outputs": [
    {
     "data": {
      "image/png": "[encoded data removed]",
      "text/plain": [
       "<Figure size 432x288 with 1 Axes>"
      ]
     },
     "metadata": {
      "needs_background": "light"
     },
     "output_type": "display_data"
    }
   ],
   "source": [
    "vectors.chart_word_freq()"
   ]
  },
  {
   "cell_type": "code",
   "execution_count": 166,
   "metadata": {},
   "outputs": [
    {
     "name": "stderr",
     "output_type": "stream",
     "text": [
      "/home/ubuntu/anaconda3/lib/python3.7/site-packages/ipykernel_launcher.py:110: UserWarning: FixedFormatter should only be used together with FixedLocator\n",
      "/home/ubuntu/anaconda3/lib/python3.7/site-packages/ipykernel_launcher.py:114: UserWarning: FixedFormatter should only be used together with FixedLocator\n"
     ]
    },
    {
     "data": {
      "image/png": "[encoded data removed]",
      "text/plain": [
       "<Figure size 432x288 with 2 Axes>"
      ]
     },
     "metadata": {
      "needs_background": "light"
     },
     "output_type": "display_data"
    }
   ],
   "source": [
    "vectors.chart_top_words()"
   ]
  },
  {
   "cell_type": "code",
   "execution_count": 167,
   "metadata": {},
   "outputs": [],
   "source": [
    "lda = LDA_model(topics=6)\n",
    "lda.fit(matrix, y_train)\n",
    "phi = lda.phi()\n",
    "theta = lda.theta()"
   ]
  },
  {
   "cell_type": "code",
   "execution_count": 168,
   "metadata": {},
   "outputs": [
    {
     "name": "stdout",
     "output_type": "stream",
     "text": [
      "Topic 0:\n",
      "election debate world president think cnn white going day even\n",
      "Topic 1:\n",
      "trump vote campaign gop women need still support back american\n",
      "Topic 2:\n",
      "trump donald donald trump says never media could let khan video\n",
      "Topic 3:\n",
      "hillaryclinton people like us obama know man america really khan\n",
      "Topic 4:\n",
      "realdonaldtrump would time police first good politics watch today great\n",
      "Topic 5:\n",
      "clinton hillary hillary clinton one black see right video bill campaign\n"
     ]
    }
   ],
   "source": [
    "lda.display_topics(vocab)"
   ]
  },
  {
   "cell_type": "code",
   "execution_count": 169,
   "metadata": {},
   "outputs": [
    {
     "data": {
      "text/plain": [
       "array([4, 3, 1, ..., 0, 4, 1])"
      ]
     },
     "execution_count": 169,
     "metadata": {},
     "output_type": "execute_result"
    }
   ],
   "source": [
    "lda.topic_likelihood()"
   ]
  },
  {
   "cell_type": "code",
   "execution_count": null,
   "metadata": {},
   "outputs": [],
   "source": [
    "len(lda.topic_likelihood())"
   ]
  }
 ],
 "metadata": {
  "kernelspec": {
   "display_name": "Python 3",
   "language": "python",
   "name": "python3"
  },
  "language_info": {
   "codemirror_mode": {
    "name": "ipython",
    "version": 3
   },
   "file_extension": ".py",
   "mimetype": "text/x-python",
   "name": "python",
   "nbconvert_exporter": "python",
   "pygments_lexer": "ipython3",
   "version": "3.7.1"
  }
 },
 "nbformat": 4,
 "nbformat_minor": 2
}
