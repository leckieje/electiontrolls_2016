{
 "cells": [
  {
   "cell_type": "code",
   "execution_count": 1,
   "metadata": {},
   "outputs": [],
   "source": [
    "from src.eda_vector import *\n",
    "from src.lda_model import *\n",
    "from src.model import *\n",
    "from src.classifier import *\n",
    "from src.helpers import *\n",
    "from imblearn.over_sampling import SMOTE\n",
    "import pandas as pd"
   ]
  },
  {
   "cell_type": "markdown",
   "metadata": {},
   "source": [
    "### Load data"
   ]
  },
  {
   "cell_type": "code",
   "execution_count": 2,
   "metadata": {
    "scrolled": false
   },
   "outputs": [
    {
     "name": "stderr",
     "output_type": "stream",
     "text": [
      "/home/ubuntu/anaconda3/lib/python3.7/site-packages/IPython/core/interactiveshell.py:3267: DtypeWarning: Columns (8) have mixed types.Specify dtype option on import or set low_memory=False.\n",
      "  exec(code_obj, self.user_global_ns, self.user_ns)\n",
      "/home/ubuntu/anaconda3/lib/python3.7/site-packages/IPython/core/interactiveshell.py:3267: DtypeWarning: Columns (5) have mixed types.Specify dtype option on import or set low_memory=False.\n",
      "  exec(code_obj, self.user_global_ns, self.user_ns)\n"
     ]
    }
   ],
   "source": [
    "# load data, train, test, split\n",
    "X_train, X_test, y_train, y_test = get_data_wrapper(sample=False, samp_size=0.01)"
   ]
  },
  {
   "cell_type": "code",
   "execution_count": 49,
   "metadata": {},
   "outputs": [],
   "source": [
    "# misclassifications\n",
    "false_pos = pd.read_csv('false_positives_tfidf.csv')\n",
    "false_neg = pd.read_csv('false_negative_tfidf.csv')\n",
    "X = all_misses['text']\n",
    "y = all_misses['actual']\n",
    "\n",
    "X_train, X_test, y_train, y_test = train_test_split(X, y)"
   ]
  },
  {
   "cell_type": "code",
   "execution_count": 47,
   "metadata": {},
   "outputs": [
    {
     "data": {
      "text/plain": [
       "5371984"
      ]
     },
     "execution_count": 47,
     "metadata": {},
     "output_type": "execute_result"
    }
   ],
   "source": [
    "len(X_test) + len(X_train)"
   ]
  },
  {
   "cell_type": "code",
   "execution_count": 52,
   "metadata": {},
   "outputs": [
    {
     "data": {
      "text/plain": [
       "379680"
      ]
     },
     "execution_count": 52,
     "metadata": {},
     "output_type": "execute_result"
    }
   ],
   "source": [
    "sum(y_train) + sum(y_test) / "
   ]
  },
  {
   "cell_type": "code",
   "execution_count": 53,
   "metadata": {},
   "outputs": [
    {
     "data": {
      "text/plain": [
       "0.07067779799790916"
      ]
     },
     "execution_count": 53,
     "metadata": {},
     "output_type": "execute_result"
    }
   ],
   "source": [
    "379680 / 5371984"
   ]
  },
  {
   "cell_type": "markdown",
   "metadata": {},
   "source": [
    "### Vectorize and balance"
   ]
  },
  {
   "cell_type": "code",
   "execution_count": 3,
   "metadata": {},
   "outputs": [],
   "source": [
    "# vectorizing process\n",
    "custom_stops = ['https', 'rt', 'co', 'amp', 'via', 'go', 'get', 'said', 'say', 'news', 'new', 'make', 'want', \n",
    "                'trump', 'clinton', 'donald', 'donald trump', 'donaldtrump', 'says', 'hillary', 'hillaryclinton',\n",
    "                'hillary clinton', 'realdonaldtrump', 'would', 'let', 'video', 'like']\n",
    "\n",
    "# custom_stops = ['https', 'rt', 'co', 'amp', 'via', 'go', 'get', 'said', 'say', 'news', 'new', 'make', 'want', \n",
    "#                 'says', 'would', 'let', 'video', 'like']\n",
    "\n",
    "# fit vectorizer, add stop words, return vocab\n",
    "vectors = EDA_vec(X_train, y_train)\n",
    "vectors.add_stop_words(custom_stops)\n",
    "vocab, fit_mat = vectors.vectorize(vec_type='tfidf', min_df=0.0001)\n",
    "\n",
    "# transform training and testing data \n",
    "matrix = fit_mat.transform(X_train)\n",
    "matrix_test = fit_mat.transform(X_test)"
   ]
  },
  {
   "cell_type": "code",
   "execution_count": 44,
   "metadata": {
    "scrolled": true
   },
   "outputs": [
    {
     "ename": "MemoryError",
     "evalue": "Unable to allocate 423. GiB for an array with shape (4028988, 14101) and data type float64",
     "output_type": "error",
     "traceback": [
      "\u001b[0;31m---------------------------------------------------------------------------\u001b[0m",
      "\u001b[0;31mMemoryError\u001b[0m                               Traceback (most recent call last)",
      "\u001b[0;32m<ipython-input-44-da52f6a6fbc7>\u001b[0m in \u001b[0;36m<module>\u001b[0;34m\u001b[0m\n\u001b[0;32m----> 1\u001b[0;31m \u001b[0mvectors\u001b[0m\u001b[0;34m.\u001b[0m\u001b[0mword_freq\u001b[0m\u001b[0;34m(\u001b[0m\u001b[0;34m)\u001b[0m\u001b[0;34m\u001b[0m\u001b[0;34m\u001b[0m\u001b[0m\n\u001b[0m\u001b[1;32m      2\u001b[0m \u001b[0mvectors\u001b[0m\u001b[0;34m.\u001b[0m\u001b[0mchart_word_freq\u001b[0m\u001b[0;34m(\u001b[0m\u001b[0mlow_words\u001b[0m\u001b[0;34m=\u001b[0m\u001b[0;36m0\u001b[0m\u001b[0;34m,\u001b[0m \u001b[0mhigh_words\u001b[0m\u001b[0;34m=\u001b[0m\u001b[0;36m5\u001b[0m\u001b[0;34m)\u001b[0m\u001b[0;34m\u001b[0m\u001b[0;34m\u001b[0m\u001b[0m\n",
      "\u001b[0;32m~/topic_modeling_2016/src/eda_vector.py\u001b[0m in \u001b[0;36mword_freq\u001b[0;34m(self)\u001b[0m\n\u001b[1;32m     44\u001b[0m     \u001b[0;31m# diff in word frequenncy\u001b[0m\u001b[0;34m\u001b[0m\u001b[0;34m\u001b[0m\u001b[0;34m\u001b[0m\u001b[0m\n\u001b[1;32m     45\u001b[0m     \u001b[0;32mdef\u001b[0m \u001b[0mword_freq\u001b[0m\u001b[0;34m(\u001b[0m\u001b[0mself\u001b[0m\u001b[0;34m)\u001b[0m\u001b[0;34m:\u001b[0m\u001b[0;34m\u001b[0m\u001b[0;34m\u001b[0m\u001b[0m\n\u001b[0;32m---> 46\u001b[0;31m         \u001b[0mdf\u001b[0m \u001b[0;34m=\u001b[0m \u001b[0mpd\u001b[0m\u001b[0;34m.\u001b[0m\u001b[0mDataFrame\u001b[0m\u001b[0;34m(\u001b[0m\u001b[0mdata\u001b[0m\u001b[0;34m=\u001b[0m\u001b[0mself\u001b[0m\u001b[0;34m.\u001b[0m\u001b[0mvec_fit\u001b[0m\u001b[0;34m.\u001b[0m\u001b[0mtransform\u001b[0m\u001b[0;34m(\u001b[0m\u001b[0mself\u001b[0m\u001b[0;34m.\u001b[0m\u001b[0mX\u001b[0m\u001b[0;34m)\u001b[0m\u001b[0;34m.\u001b[0m\u001b[0mtoarray\u001b[0m\u001b[0;34m(\u001b[0m\u001b[0;34m)\u001b[0m\u001b[0;34m,\u001b[0m \u001b[0mcolumns\u001b[0m\u001b[0;34m=\u001b[0m\u001b[0mself\u001b[0m\u001b[0;34m.\u001b[0m\u001b[0mvocab\u001b[0m\u001b[0;34m)\u001b[0m\u001b[0;34m\u001b[0m\u001b[0;34m\u001b[0m\u001b[0m\n\u001b[0m\u001b[1;32m     47\u001b[0m         \u001b[0mdf\u001b[0m\u001b[0;34m[\u001b[0m\u001b[0;34m'legit'\u001b[0m\u001b[0;34m]\u001b[0m \u001b[0;34m=\u001b[0m \u001b[0mnp\u001b[0m\u001b[0;34m.\u001b[0m\u001b[0marray\u001b[0m\u001b[0;34m(\u001b[0m\u001b[0mself\u001b[0m\u001b[0;34m.\u001b[0m\u001b[0my\u001b[0m\u001b[0;34m)\u001b[0m\u001b[0;34m\u001b[0m\u001b[0;34m\u001b[0m\u001b[0m\n\u001b[1;32m     48\u001b[0m         \u001b[0mlegit\u001b[0m \u001b[0;34m=\u001b[0m \u001b[0mdf\u001b[0m\u001b[0;34m[\u001b[0m\u001b[0mdf\u001b[0m\u001b[0;34m[\u001b[0m\u001b[0;34m'legit'\u001b[0m\u001b[0;34m]\u001b[0m \u001b[0;34m==\u001b[0m \u001b[0;36m0\u001b[0m\u001b[0;34m]\u001b[0m\u001b[0;34m\u001b[0m\u001b[0;34m\u001b[0m\u001b[0m\n",
      "\u001b[0;32m~/anaconda3/lib/python3.7/site-packages/scipy/sparse/compressed.py\u001b[0m in \u001b[0;36mtoarray\u001b[0;34m(self, order, out)\u001b[0m\n\u001b[1;32m   1027\u001b[0m         \u001b[0;32mif\u001b[0m \u001b[0mout\u001b[0m \u001b[0;32mis\u001b[0m \u001b[0;32mNone\u001b[0m \u001b[0;32mand\u001b[0m \u001b[0morder\u001b[0m \u001b[0;32mis\u001b[0m \u001b[0;32mNone\u001b[0m\u001b[0;34m:\u001b[0m\u001b[0;34m\u001b[0m\u001b[0;34m\u001b[0m\u001b[0m\n\u001b[1;32m   1028\u001b[0m             \u001b[0morder\u001b[0m \u001b[0;34m=\u001b[0m \u001b[0mself\u001b[0m\u001b[0;34m.\u001b[0m\u001b[0m_swap\u001b[0m\u001b[0;34m(\u001b[0m\u001b[0;34m'cf'\u001b[0m\u001b[0;34m)\u001b[0m\u001b[0;34m[\u001b[0m\u001b[0;36m0\u001b[0m\u001b[0;34m]\u001b[0m\u001b[0;34m\u001b[0m\u001b[0;34m\u001b[0m\u001b[0m\n\u001b[0;32m-> 1029\u001b[0;31m         \u001b[0mout\u001b[0m \u001b[0;34m=\u001b[0m \u001b[0mself\u001b[0m\u001b[0;34m.\u001b[0m\u001b[0m_process_toarray_args\u001b[0m\u001b[0;34m(\u001b[0m\u001b[0morder\u001b[0m\u001b[0;34m,\u001b[0m \u001b[0mout\u001b[0m\u001b[0;34m)\u001b[0m\u001b[0;34m\u001b[0m\u001b[0;34m\u001b[0m\u001b[0m\n\u001b[0m\u001b[1;32m   1030\u001b[0m         \u001b[0;32mif\u001b[0m \u001b[0;32mnot\u001b[0m \u001b[0;34m(\u001b[0m\u001b[0mout\u001b[0m\u001b[0;34m.\u001b[0m\u001b[0mflags\u001b[0m\u001b[0;34m.\u001b[0m\u001b[0mc_contiguous\u001b[0m \u001b[0;32mor\u001b[0m \u001b[0mout\u001b[0m\u001b[0;34m.\u001b[0m\u001b[0mflags\u001b[0m\u001b[0;34m.\u001b[0m\u001b[0mf_contiguous\u001b[0m\u001b[0;34m)\u001b[0m\u001b[0;34m:\u001b[0m\u001b[0;34m\u001b[0m\u001b[0;34m\u001b[0m\u001b[0m\n\u001b[1;32m   1031\u001b[0m             \u001b[0;32mraise\u001b[0m \u001b[0mValueError\u001b[0m\u001b[0;34m(\u001b[0m\u001b[0;34m'Output array must be C or F contiguous'\u001b[0m\u001b[0;34m)\u001b[0m\u001b[0;34m\u001b[0m\u001b[0;34m\u001b[0m\u001b[0m\n",
      "\u001b[0;32m~/anaconda3/lib/python3.7/site-packages/scipy/sparse/base.py\u001b[0m in \u001b[0;36m_process_toarray_args\u001b[0;34m(self, order, out)\u001b[0m\n\u001b[1;32m   1183\u001b[0m             \u001b[0;32mreturn\u001b[0m \u001b[0mout\u001b[0m\u001b[0;34m\u001b[0m\u001b[0;34m\u001b[0m\u001b[0m\n\u001b[1;32m   1184\u001b[0m         \u001b[0;32melse\u001b[0m\u001b[0;34m:\u001b[0m\u001b[0;34m\u001b[0m\u001b[0;34m\u001b[0m\u001b[0m\n\u001b[0;32m-> 1185\u001b[0;31m             \u001b[0;32mreturn\u001b[0m \u001b[0mnp\u001b[0m\u001b[0;34m.\u001b[0m\u001b[0mzeros\u001b[0m\u001b[0;34m(\u001b[0m\u001b[0mself\u001b[0m\u001b[0;34m.\u001b[0m\u001b[0mshape\u001b[0m\u001b[0;34m,\u001b[0m \u001b[0mdtype\u001b[0m\u001b[0;34m=\u001b[0m\u001b[0mself\u001b[0m\u001b[0;34m.\u001b[0m\u001b[0mdtype\u001b[0m\u001b[0;34m,\u001b[0m \u001b[0morder\u001b[0m\u001b[0;34m=\u001b[0m\u001b[0morder\u001b[0m\u001b[0;34m)\u001b[0m\u001b[0;34m\u001b[0m\u001b[0;34m\u001b[0m\u001b[0m\n\u001b[0m\u001b[1;32m   1186\u001b[0m \u001b[0;34m\u001b[0m\u001b[0m\n\u001b[1;32m   1187\u001b[0m \u001b[0;34m\u001b[0m\u001b[0m\n",
      "\u001b[0;31mMemoryError\u001b[0m: Unable to allocate 423. GiB for an array with shape (4028988, 14101) and data type float64"
     ]
    }
   ],
   "source": [
    "vectors.word_freq()\n",
    "vectors.chart_word_freq(low_words=0, high_words=5)"
   ]
  },
  {
   "cell_type": "markdown",
   "metadata": {},
   "source": [
    "### Random forest classifier"
   ]
  },
  {
   "cell_type": "code",
   "execution_count": 6,
   "metadata": {},
   "outputs": [],
   "source": [
    "# balance count vectorized data for training\n",
    "bal_matrix, bal_y_train = SMOTE().fit_resample(matrix, y_train) "
   ]
  },
  {
   "cell_type": "code",
   "execution_count": 7,
   "metadata": {},
   "outputs": [
    {
     "name": "stdout",
     "output_type": "stream",
     "text": [
      "Random Forest Scores -- w/out LDA\n",
      "accuracy = 0.8300754432626753\n",
      "oob = 0.8696743360714144\n",
      "recall = 0.8024336283185841\n",
      "precision = 0.26667063461498064\n",
      "f_one = 0.40030798177336535\n"
     ]
    },
    {
     "data": {
      "image/png": "[encoded data removed]",
      "text/plain": [
       "<Figure size 432x288 with 1 Axes>"
      ]
     },
     "metadata": {
      "needs_background": "light"
     },
     "output_type": "display_data"
    }
   ],
   "source": [
    "# random forest (without LDA) -- balanced fit, unbalanced predict\n",
    "forest = RandForest(n_estimators=150, max_depth=150, max_leaf=None, \n",
    "                    max_features='log2', class_weight='balanced')\n",
    "forest.fit(bal_matrix, bal_y_train)\n",
    "probas, y_hat = forest.predict(matrix_test, thresh=0.542)\n",
    "forest.score(y_test, y_hat)\n",
    "print('Random Forest Scores -- w/out LDA')\n",
    "print(f'accuracy = {forest.acc}')\n",
    "print(f'oob = {forest.oob}')\n",
    "print(f'recall = {forest.recall}')\n",
    "print(f'precision = {forest.precision}')\n",
    "print(f'f_one = {forest.f_one}')\n",
    "forest.plot_confusion()"
   ]
  },
  {
   "cell_type": "code",
   "execution_count": 8,
   "metadata": {},
   "outputs": [
    {
     "name": "stdout",
     "output_type": "stream",
     "text": [
      "Random Forest Scores -- w/out LDA\n",
      "accuracy = 0.5184252224131718\n",
      "oob = 0.8696743360714144\n",
      "recall = 0.9717973029919933\n",
      "precision = 0.12527586548764869\n",
      "f_one = 0.22194098207615376\n"
     ]
    },
    {
     "data": {
      "image/png": "[encoded data removed]",
      "text/plain": [
       "<Figure size 432x288 with 1 Axes>"
      ]
     },
     "metadata": {
      "needs_background": "light"
     },
     "output_type": "display_data"
    }
   ],
   "source": [
    "probas, y_hat = forest.predict(matrix_test, thresh=0.25)\n",
    "forest.score(y_test, y_hat)\n",
    "print('Random Forest Scores -- w/out LDA')\n",
    "print(f'accuracy = {forest.acc}')\n",
    "print(f'oob = {forest.oob}')\n",
    "print(f'recall = {forest.recall}')\n",
    "print(f'precision = {forest.precision}')\n",
    "print(f'f_one = {forest.f_one}')\n",
    "forest.plot_confusion()"
   ]
  },
  {
   "cell_type": "code",
   "execution_count": 67,
   "metadata": {},
   "outputs": [
    {
     "name": "stdout",
     "output_type": "stream",
     "text": [
      "true neg: 0.4839448879715658\n",
      "false pos: 0.5160551120284341\n",
      "false neg: 0.028202697008006743\n",
      "true pos: 0.9717973029919933\n"
     ]
    }
   ],
   "source": [
    "get_percent(92243, 644076, 2677, 604000)"
   ]
  },
  {
   "cell_type": "code",
   "execution_count": 9,
   "metadata": {},
   "outputs": [
    {
     "name": "stdout",
     "output_type": "stream",
     "text": [
      "Random Forest Scores -- w/out LDA\n",
      "accuracy = 0.950725839838689\n",
      "oob = 0.8696743360714144\n",
      "recall = 0.3208280657395702\n",
      "precision = 0.9468921986256646\n",
      "f_one = 0.4792691275643094\n"
     ]
    },
    {
     "data": {
      "image/png": "[encoded data removed]",
      "text/plain": [
       "<Figure size 432x288 with 1 Axes>"
      ]
     },
     "metadata": {
      "needs_background": "light"
     },
     "output_type": "display_data"
    }
   ],
   "source": [
    "probas, y_hat = forest.predict(matrix_test, thresh=0.75)\n",
    "forest.score(y_test, y_hat)\n",
    "print('Random Forest Scores -- w/out LDA')\n",
    "print(f'accuracy = {forest.acc}')\n",
    "print(f'oob = {forest.oob}')\n",
    "print(f'recall = {forest.recall}')\n",
    "print(f'precision = {forest.precision}')\n",
    "print(f'f_one = {forest.f_one}')\n",
    "forest.plot_confusion()"
   ]
  },
  {
   "cell_type": "code",
   "execution_count": 66,
   "metadata": {},
   "outputs": [
    {
     "name": "stdout",
     "output_type": "stream",
     "text": [
      "true neg: 0.9986314935949413\n",
      "false pos: 0.0013685064050586663\n",
      "false neg: 0.6791719342604299\n",
      "true pos: 0.3208280657395702\n"
     ]
    }
   ],
   "source": [
    "get_percent(30453, 1708, 64467, 1246368)"
   ]
  },
  {
   "cell_type": "code",
   "execution_count": 10,
   "metadata": {
    "scrolled": true
   },
   "outputs": [
    {
     "data": {
      "image/png": "[encoded data removed]",
      "text/plain": [
       "<Figure size 432x288 with 1 Axes>"
      ]
     },
     "metadata": {
      "needs_background": "light"
     },
     "output_type": "display_data"
    }
   ],
   "source": [
    "thresh_nolda = plot_roc_curve(matrix_test, y_test, lda=False) # wihtout LDA"
   ]
  },
  {
   "cell_type": "code",
   "execution_count": 11,
   "metadata": {},
   "outputs": [],
   "source": [
    "roc_frame = pd.DataFrame({'fpr': thresh_nolda[0], 'tpr': thresh_nolda[1], 'thresh': thresh_nolda[2]})"
   ]
  },
  {
   "cell_type": "code",
   "execution_count": 83,
   "metadata": {},
   "outputs": [
    {
     "data": {
      "text/html": [
       "<div>\n",
       "<style scoped>\n",
       "    .dataframe tbody tr th:only-of-type {\n",
       "        vertical-align: middle;\n",
       "    }\n",
       "\n",
       "    .dataframe tbody tr th {\n",
       "        vertical-align: top;\n",
       "    }\n",
       "\n",
       "    .dataframe thead th {\n",
       "        text-align: right;\n",
       "    }\n",
       "</style>\n",
       "<table border=\"1\" class=\"dataframe\">\n",
       "  <thead>\n",
       "    <tr style=\"text-align: right;\">\n",
       "      <th></th>\n",
       "      <th>fpr</th>\n",
       "      <th>tpr</th>\n",
       "      <th>thresh</th>\n",
       "    </tr>\n",
       "  </thead>\n",
       "  <tbody>\n",
       "    <tr>\n",
       "      <th>49425</th>\n",
       "      <td>0.203150</td>\n",
       "      <td>0.770010</td>\n",
       "      <td>0.523845</td>\n",
       "    </tr>\n",
       "    <tr>\n",
       "      <th>49426</th>\n",
       "      <td>0.203151</td>\n",
       "      <td>0.770010</td>\n",
       "      <td>0.523845</td>\n",
       "    </tr>\n",
       "    <tr>\n",
       "      <th>49427</th>\n",
       "      <td>0.203151</td>\n",
       "      <td>0.770024</td>\n",
       "      <td>0.523845</td>\n",
       "    </tr>\n",
       "    <tr>\n",
       "      <th>49428</th>\n",
       "      <td>0.203154</td>\n",
       "      <td>0.770024</td>\n",
       "      <td>0.523844</td>\n",
       "    </tr>\n",
       "    <tr>\n",
       "      <th>49429</th>\n",
       "      <td>0.203168</td>\n",
       "      <td>0.770024</td>\n",
       "      <td>0.523844</td>\n",
       "    </tr>\n",
       "    <tr>\n",
       "      <th>...</th>\n",
       "      <td>...</td>\n",
       "      <td>...</td>\n",
       "      <td>...</td>\n",
       "    </tr>\n",
       "    <tr>\n",
       "      <th>52631</th>\n",
       "      <td>0.216506</td>\n",
       "      <td>0.779983</td>\n",
       "      <td>0.520371</td>\n",
       "    </tr>\n",
       "    <tr>\n",
       "      <th>52632</th>\n",
       "      <td>0.216508</td>\n",
       "      <td>0.779983</td>\n",
       "      <td>0.520368</td>\n",
       "    </tr>\n",
       "    <tr>\n",
       "      <th>52633</th>\n",
       "      <td>0.216508</td>\n",
       "      <td>0.779997</td>\n",
       "      <td>0.520367</td>\n",
       "    </tr>\n",
       "    <tr>\n",
       "      <th>52634</th>\n",
       "      <td>0.216511</td>\n",
       "      <td>0.779997</td>\n",
       "      <td>0.520366</td>\n",
       "    </tr>\n",
       "    <tr>\n",
       "      <th>52635</th>\n",
       "      <td>0.216512</td>\n",
       "      <td>0.779997</td>\n",
       "      <td>0.520366</td>\n",
       "    </tr>\n",
       "  </tbody>\n",
       "</table>\n",
       "<p>3211 rows × 3 columns</p>\n",
       "</div>"
      ],
      "text/plain": [
       "            fpr       tpr    thresh\n",
       "49425  0.203150  0.770010  0.523845\n",
       "49426  0.203151  0.770010  0.523845\n",
       "49427  0.203151  0.770024  0.523845\n",
       "49428  0.203154  0.770024  0.523844\n",
       "49429  0.203168  0.770024  0.523844\n",
       "...         ...       ...       ...\n",
       "52631  0.216506  0.779983  0.520371\n",
       "52632  0.216508  0.779983  0.520368\n",
       "52633  0.216508  0.779997  0.520367\n",
       "52634  0.216511  0.779997  0.520366\n",
       "52635  0.216512  0.779997  0.520366\n",
       "\n",
       "[3211 rows x 3 columns]"
      ]
     },
     "execution_count": 83,
     "metadata": {},
     "output_type": "execute_result"
    }
   ],
   "source": [
    "roc_frame[(roc_frame['tpr'] >= 0.77) & (roc_frame['tpr'] < 0.78)]"
   ]
  },
  {
   "cell_type": "code",
   "execution_count": 13,
   "metadata": {
    "scrolled": false
   },
   "outputs": [
    {
     "data": {
      "image/png": "[encoded data removed]",
      "text/plain": [
       "<Figure size 720x288 with 1 Axes>"
      ]
     },
     "metadata": {
      "needs_background": "light"
     },
     "output_type": "display_data"
    }
   ],
   "source": [
    "forest.chart_gini_import(features=10, vocab=vocab)"
   ]
  },
  {
   "cell_type": "code",
   "execution_count": 14,
   "metadata": {},
   "outputs": [],
   "source": [
    "def get_misses(y_hat, y_test, X_test):\n",
    "    df = pd.DataFrame({'text': X_test, 'predicted': y_hat, 'actual': y_test})\n",
    "    df = df[df['predicted'] != df['actual']]\n",
    "    false_pos = df[df['predicted'] == 1]\n",
    "    false_neg = df[df['predicted'] == 0]\n",
    "    return false_pos, false_neg"
   ]
  },
  {
   "cell_type": "code",
   "execution_count": 15,
   "metadata": {},
   "outputs": [],
   "source": [
    "false_pos_tfidf, false_neg_tfidf = get_misses(y_hat, y_test, X_test)\n",
    "false_pos_tfidf.to_csv('false_positives_tfidf.csv')\n",
    "false_neg_tfidf.to_csv('false_negative_tfidf.csv')\n"
   ]
  },
  {
   "cell_type": "code",
   "execution_count": 29,
   "metadata": {},
   "outputs": [
    {
     "name": "stdout",
     "output_type": "stream",
     "text": [
      "Random Forest Scores -- w/out LDA\n",
      "accuracy = 0.8380047297236924\n",
      "oob = 0.8696743360714144\n",
      "recall = 0.791740412979351\n",
      "precision = 0.27533953975738523\n",
      "f_one = 0.40858689240287827\n"
     ]
    },
    {
     "data": {
      "image/png": "[encoded data removed]",
      "text/plain": [
       "<Figure size 432x288 with 1 Axes>"
      ]
     },
     "metadata": {
      "needs_background": "light"
     },
     "output_type": "display_data"
    }
   ],
   "source": [
    "probas, y_hat = forest.predict(matrix_test, thresh=0.55)\n",
    "forest.score(y_test, y_hat)\n",
    "print('Random Forest Scores -- w/out LDA')\n",
    "print(f'accuracy = {forest.acc}')\n",
    "print(f'oob = {forest.oob}')\n",
    "print(f'recall = {forest.recall}')\n",
    "print(f'precision = {forest.precision}')\n",
    "print(f'f_one = {forest.f_one}')\n",
    "forest.plot_confusion()"
   ]
  },
  {
   "cell_type": "code",
   "execution_count": 68,
   "metadata": {},
   "outputs": [
    {
     "name": "stdout",
     "output_type": "stream",
     "text": [
      "true neg: 0.8415232726212186\n",
      "false pos: 0.1584767273787814\n",
      "false neg: 0.20825958702064898\n",
      "true pos: 0.791740412979351\n"
     ]
    }
   ],
   "source": [
    "get_percent(75152, 197791, 19768, 1050285)"
   ]
  },
  {
   "cell_type": "code",
   "execution_count": 42,
   "metadata": {},
   "outputs": [
    {
     "name": "stdout",
     "output_type": "stream",
     "text": [
      "Random Forest Scores -- w/out LDA\n",
      "accuracy = 0.8593689035559302\n",
      "oob = 0.8696743360714144\n",
      "recall = 0.7609671302149178\n",
      "precision = 0.30297094488882553\n",
      "f_one = 0.43339163409124326\n"
     ]
    },
    {
     "data": {
      "image/png": "[encoded data removed]",
      "text/plain": [
       "<Figure size 432x288 with 1 Axes>"
      ]
     },
     "metadata": {
      "needs_background": "light"
     },
     "output_type": "display_data"
    }
   ],
   "source": [
    "probas, y_hat = forest.predict(matrix_test, thresh=0.57)\n",
    "forest.score(y_test, y_hat)\n",
    "print('Random Forest Scores -- w/out LDA')\n",
    "print(f'accuracy = {forest.acc}')\n",
    "print(f'oob = {forest.oob}')\n",
    "print(f'recall = {forest.recall}')\n",
    "print(f'precision = {forest.precision}')\n",
    "print(f'f_one = {forest.f_one}')\n",
    "forest.plot_confusion()"
   ]
  },
  {
   "cell_type": "code",
   "execution_count": 69,
   "metadata": {},
   "outputs": [
    {
     "name": "stdout",
     "output_type": "stream",
     "text": [
      "true neg: 0.8668526596136774\n",
      "false pos: 0.13314734038632262\n",
      "false neg: 0.23903286978508217\n",
      "true pos: 0.7609671302149178\n"
     ]
    }
   ],
   "source": [
    "get_percent(72231, 166178, 22689, 1081898)"
   ]
  },
  {
   "cell_type": "code",
   "execution_count": 90,
   "metadata": {},
   "outputs": [
    {
     "name": "stdout",
     "output_type": "stream",
     "text": [
      "Random Forest Scores -- w/out LDA\n",
      "accuracy = 0.8697174079446253\n",
      "oob = 0.8696743360714144\n",
      "recall = 0.7459755583649389\n",
      "precision = 0.31943698824803196\n",
      "f_one = 0.44732378350206103\n"
     ]
    },
    {
     "data": {
      "image/png": "[encoded data removed]",
      "text/plain": [
       "<Figure size 432x288 with 1 Axes>"
      ]
     },
     "metadata": {
      "needs_background": "light"
     },
     "output_type": "display_data"
    }
   ],
   "source": [
    "probas, y_hat = forest.predict(matrix_test, thresh=0.5779)\n",
    "forest.score(y_test, y_hat)\n",
    "print('Random Forest Scores -- w/out LDA')\n",
    "print(f'accuracy = {forest.acc}')\n",
    "print(f'oob = {forest.oob}')\n",
    "print(f'recall = {forest.recall}')\n",
    "print(f'precision = {forest.precision}')\n",
    "print(f'f_one = {forest.f_one}')\n",
    "forest.plot_confusion()"
   ]
  },
  {
   "cell_type": "code",
   "execution_count": 77,
   "metadata": {},
   "outputs": [
    {
     "name": "stdout",
     "output_type": "stream",
     "text": [
      "true neg: 0.876328044125518\n",
      "false pos: 0.123671955874482\n",
      "false neg: 0.25031862564383445\n",
      "true pos: 0.7496813743561656\n"
     ]
    }
   ],
   "source": [
    "get_percent(71174, 154352, 23765, 1093724)"
   ]
  },
  {
   "cell_type": "code",
   "execution_count": 114,
   "metadata": {},
   "outputs": [
    {
     "name": "stdout",
     "output_type": "stream",
     "text": [
      "Random Forest Scores -- w/out LDA\n",
      "accuracy = 0.8719996187628258\n",
      "oob = 0.8696743360714144\n",
      "recall = 0.7427728613569321\n",
      "precision = 0.3234247128334985\n",
      "f_one = 0.45063148744695\n"
     ]
    },
    {
     "data": {
      "image/png": "[encoded data removed]",
      "text/plain": [
       "<Figure size 432x288 with 1 Axes>"
      ]
     },
     "metadata": {
      "needs_background": "light"
     },
     "output_type": "display_data"
    }
   ],
   "source": [
    "probas, y_hat = forest.predict(matrix_test, thresh=0.5795)\n",
    "forest.score(y_test, y_hat)\n",
    "print('Random Forest Scores -- w/out LDA')\n",
    "print(f'accuracy = {forest.acc}')\n",
    "print(f'oob = {forest.oob}')\n",
    "print(f'recall = {forest.recall}')\n",
    "print(f'precision = {forest.precision}')\n",
    "print(f'f_one = {forest.f_one}')\n",
    "forest.plot_confusion()"
   ]
  },
  {
   "cell_type": "code",
   "execution_count": 103,
   "metadata": {},
   "outputs": [
    {
     "name": "stdout",
     "output_type": "stream",
     "text": [
      "true neg: 0.8818277092100161\n",
      "false pos: 0.11817229078998394\n",
      "false neg: 0.25722713864306784\n",
      "true pos: 0.7427728613569321\n"
     ]
    }
   ],
   "source": [
    "get_percent(70504, 147488, 24416, 1100588)"
   ]
  },
  {
   "cell_type": "markdown",
   "metadata": {},
   "source": [
    "### LDA model"
   ]
  },
  {
   "cell_type": "code",
   "execution_count": 57,
   "metadata": {},
   "outputs": [],
   "source": [
    "# # fit LDA model on training data\n",
    "lda = LDA_model(topics=5)\n",
    "lda.fit(matrix, y_train, vocab)\n",
    "lda.phi() # to evaluate coherence score\n",
    "theta = lda.theta()\n",
    "\n",
    "# get test theta for random forest evaluation\n",
    "theta_test = lda.test_theta(matrix_test)"
   ]
  },
  {
   "cell_type": "code",
   "execution_count": 58,
   "metadata": {},
   "outputs": [
    {
     "data": {
      "image/png": "[encoded data removed]",
      "text/plain": [
       "<Figure size 576x720 with 2 Axes>"
      ]
     },
     "metadata": {
      "needs_background": "light"
     },
     "output_type": "display_data"
    }
   ],
   "source": [
    "# get topic liklihoods by class\n",
    "lda.topic_likelihood()\n",
    "lda.plot_topics_by_class()"
   ]
  },
  {
   "cell_type": "code",
   "execution_count": 59,
   "metadata": {},
   "outputs": [
    {
     "data": {
      "image/png": "[encoded data removed]",
      "text/plain": [
       "<Figure size 2160x1080 with 6 Axes>"
      ]
     },
     "metadata": {
      "needs_background": "light"
     },
     "output_type": "display_data"
    }
   ],
   "source": [
    "lda.plot_top_words()"
   ]
  },
  {
   "cell_type": "code",
   "execution_count": 60,
   "metadata": {},
   "outputs": [
    {
     "data": {
      "text/plain": [
       "-6.14626798596483"
      ]
     },
     "execution_count": 60,
     "metadata": {},
     "output_type": "execute_result"
    }
   ],
   "source": [
    "lda.coherance_score()"
   ]
  },
  {
   "cell_type": "code",
   "execution_count": 61,
   "metadata": {},
   "outputs": [],
   "source": [
    "# balance count vectorized data for training\n",
    "bal_theta, bal_y_train = SMOTE().fit_resample(theta, y_train) "
   ]
  },
  {
   "cell_type": "code",
   "execution_count": 62,
   "metadata": {},
   "outputs": [
    {
     "name": "stdout",
     "output_type": "stream",
     "text": [
      "Random Forest Scores -- with LDA\n",
      "accuracy = 0.8920837933995829\n",
      "oob = 0.919184046294625\n",
      "recall = 0.2957481794691097\n",
      "precision = 0.23763684409211022\n",
      "f_one = 0.263526949241235\n"
     ]
    },
    {
     "data": {
      "image/png": "[encoded data removed]",
      "text/plain": [
       "<Figure size 432x288 with 1 Axes>"
      ]
     },
     "metadata": {
      "needs_background": "light"
     },
     "output_type": "display_data"
    }
   ],
   "source": [
    "# random forest (with LDA)\n",
    "forest = RandForest(n_estimators=150, max_depth=150, max_leaf=None, \n",
    "                    max_features=theta.shape[1], class_weight=None)\n",
    "forest.fit(bal_theta, bal_y_train)\n",
    "probas, y_hat = forest.predict(theta_test, thresh=.542)\n",
    "forest.score(y_test, y_hat)\n",
    "print('Random Forest Scores -- with LDA')\n",
    "print(f'accuracy = {forest.acc}')\n",
    "print(f'oob = {forest.oob}')\n",
    "print(f'recall = {forest.recall}')\n",
    "print(f'precision = {forest.precision}')\n",
    "print(f'f_one = {forest.f_one}')\n",
    "forest.plot_confusion()"
   ]
  },
  {
   "cell_type": "code",
   "execution_count": 63,
   "metadata": {},
   "outputs": [
    {
     "data": {
      "image/png": "[encoded data removed]",
      "text/plain": [
       "<Figure size 432x288 with 1 Axes>"
      ]
     },
     "metadata": {
      "needs_background": "light"
     },
     "output_type": "display_data"
    }
   ],
   "source": [
    "thresh_lda = plot_roc_curve(theta_test, y_test, lda=False) # wihtout LDA"
   ]
  },
  {
   "cell_type": "code",
   "execution_count": 64,
   "metadata": {
    "scrolled": true
   },
   "outputs": [
    {
     "data": {
      "image/png": "[encoded data removed]",
      "text/plain": [
       "<Figure size 720x288 with 1 Axes>"
      ]
     },
     "metadata": {
      "needs_background": "light"
     },
     "output_type": "display_data"
    }
   ],
   "source": [
    "forest.chart_gini_import(features=-1)"
   ]
  },
  {
   "cell_type": "markdown",
   "metadata": {},
   "source": [
    "### Misclassifications"
   ]
  },
  {
   "cell_type": "code",
   "execution_count": 104,
   "metadata": {},
   "outputs": [],
   "source": [
    "false_pos = pd.read_csv('false_positives_tfidf.csv')\n",
    "false_neg = pd.read_csv('false_negative_tfidf.csv')"
   ]
  },
  {
   "cell_type": "code",
   "execution_count": 115,
   "metadata": {},
   "outputs": [],
   "source": [
    "all_misses = pd.concat([false_pos, false_neg])"
   ]
  },
  {
   "cell_type": "code",
   "execution_count": 11,
   "metadata": {},
   "outputs": [],
   "source": [
    "X = all_misses['text']\n",
    "y = all_misses['actual']"
   ]
  },
  {
   "cell_type": "code",
   "execution_count": 12,
   "metadata": {},
   "outputs": [],
   "source": [
    "from sklearn.model_selection import train_test_split"
   ]
  },
  {
   "cell_type": "code",
   "execution_count": null,
   "metadata": {},
   "outputs": [],
   "source": [
    "# balance count vectorized data for training\n",
    "bal_matrix, bal_y_train = SMOTE().fit_resample(matrix, y_train) "
   ]
  },
  {
   "cell_type": "code",
   "execution_count": 13,
   "metadata": {},
   "outputs": [],
   "source": [
    "# vectorizing process\n",
    "custom_stops = ['https', 'rt', 'co', 'amp', 'via', 'go', 'get', 'said', 'say', 'news', 'new', 'make', 'want', \n",
    "                'trump', 'clinton', 'donald', 'donald trump', 'donaldtrump', 'says', 'hillary', 'hillaryclinton',\n",
    "                'hillary clinton', 'realdonaldtrump', 'would', 'let', 'video', 'like']\n",
    "\n",
    "# custom_stops = ['https', 'rt', 'co', 'amp', 'via', 'go', 'get', 'said', 'say', 'news', 'new', 'make', 'want', \n",
    "#                 'says', 'would', 'let', 'video', 'like']\n",
    "\n",
    "# fit vectorizer, add stop words, return vocab\n",
    "vectors = EDA_vec(X, y)\n",
    "vectors.add_stop_words(custom_stops)\n",
    "vocab, fit_mat = vectors.vectorize(min_df=0.0001)\n",
    "\n",
    "# transform training and testing data \n",
    "matrix = fit_mat.transform(X)\n",
    "mat"
   ]
  },
  {
   "cell_type": "code",
   "execution_count": 16,
   "metadata": {},
   "outputs": [
    {
     "data": {
      "image/png": "[encoded data removed]",
      "text/plain": [
       "<Figure size 432x288 with 1 Axes>"
      ]
     },
     "metadata": {
      "needs_background": "light"
     },
     "output_type": "display_data"
    }
   ],
   "source": [
    "vectors.word_freq()"
   ]
  },
  {
   "cell_type": "code",
   "execution_count": 17,
   "metadata": {},
   "outputs": [
    {
     "data": {
      "image/png": "[encoded data removed]",
      "text/plain": [
       "<Figure size 432x288 with 1 Axes>"
      ]
     },
     "metadata": {
      "needs_background": "light"
     },
     "output_type": "display_data"
    }
   ],
   "source": [
    "vectors.chart_word_freq(low_words=12, high_words=18)"
   ]
  },
  {
   "cell_type": "code",
   "execution_count": 102,
   "metadata": {},
   "outputs": [
    {
     "data": {
      "image/png": "[encoded data removed]",
      "text/plain": [
       "<Figure size 432x288 with 1 Axes>"
      ]
     },
     "metadata": {
      "needs_background": "light"
     },
     "output_type": "display_data"
    }
   ],
   "source": [
    "word_lst = ['election', 'debate', 'police', 'president', 'sports', 'black']\n",
    "vectors.chart_word_freq(word_lst)"
   ]
  },
  {
   "cell_type": "code",
   "execution_count": 19,
   "metadata": {},
   "outputs": [
    {
     "name": "stderr",
     "output_type": "stream",
     "text": [
      "/home/ubuntu/topic_modeling_2016/src/eda_vector.py:108: UserWarning: FixedFormatter should only be used together with FixedLocator\n",
      "  ax[0].set_xticklabels(legit_words)\n",
      "/home/ubuntu/topic_modeling_2016/src/eda_vector.py:112: UserWarning: FixedFormatter should only be used together with FixedLocator\n",
      "  ax[1].set_xticklabels(troll_words)\n"
     ]
    },
    {
     "data": {
      "image/png": "[encoded data removed]",
      "text/plain": [
       "<Figure size 432x288 with 2 Axes>"
      ]
     },
     "metadata": {
      "needs_background": "light"
     },
     "output_type": "display_data"
    }
   ],
   "source": [
    "vectors.chart_top_words()"
   ]
  },
  {
   "cell_type": "code",
   "execution_count": 29,
   "metadata": {},
   "outputs": [
    {
     "data": {
      "text/plain": [
       "0    243780\n",
       "1     17049\n",
       "Name: actual, dtype: int64"
      ]
     },
     "execution_count": 29,
     "metadata": {},
     "output_type": "execute_result"
    }
   ],
   "source": [
    "all_misses['actual'].value_counts()"
   ]
  },
  {
   "cell_type": "code",
   "execution_count": 43,
   "metadata": {},
   "outputs": [
    {
     "data": {
      "text/plain": [
       "array([0, 0, 0, ..., 1, 1, 1])"
      ]
     },
     "execution_count": 43,
     "metadata": {},
     "output_type": "execute_result"
    }
   ],
   "source": [
    "np.array(y)"
   ]
  },
  {
   "cell_type": "code",
   "execution_count": 101,
   "metadata": {},
   "outputs": [
    {
     "name": "stdout",
     "output_type": "stream",
     "text": [
      "eric trump is a fuckboy\n",
      "RT @Lee_in_Iowa: Now that Trump's let 'em loose, these GOPers aren't bothering with dog whistles any more. They're right up front w/ the ra…\n",
      "@HillaryClinton all of the above!\n",
      "@WhatTheFFacts this is very true for Hillary Clinton\n",
      "Kareem Abdul-Jabbar Introduced Himself as Michael Jordan, Burned Donald Trump https://t.co/5TyPd1I7Nw\n",
      "https://t.co/3SoCdoW1kh\n",
      "She belongs in prison. #HillaryForPrison #TrumpPence16 #HillaryForPrison #TrumpPence16 https://t.co/JtWrXkygH6\n",
      "RT @IAFFTreg: .@IAFFLocal5 responds to @realDonaldTrump attack over the weekend. @LauraWalkerKC @JakeSherman @TheFix https://t.co/DIU8kYDItp\n",
      "RT @zerohedge: The Complete A To Z Of Nations Destroyed By Hillary Clinton's \"Hubris\" https://t.co/aXDESXQOM8\n",
      "Because she is part of the problem. https://t.co/6ZLSRGx3rc\n"
     ]
    }
   ],
   "source": [
    "for text in X[41:50]:\n",
    "    print(text) "
   ]
  },
  {
   "cell_type": "code",
   "execution_count": 135,
   "metadata": {},
   "outputs": [
    {
     "name": "stdout",
     "output_type": "stream",
     "text": [
      "@realDonaldTrump @Amberis4LSU Just remember, by population, there is a disproportionate number of police killed by Blacks than the reverse.\n",
      "Police are investigating after a woman told police a man in a Donald Trump mask stabbed her https://t.co/ShsZNpQ3yw\n",
      "Trump 'very troubled' by Tulsa police shooting; Clinton calls killings 'unbearable' https://t.co/x54ZNdjZIz #temecula\n",
      "#SHUTDOWNCITYHALLNYC  love the irony of a protest for the abolishment of police, is again policing it self. https://t.co/XpjhnJgWZ2\n",
      "@michael_pullock Seeing a bunch of Trump protesters flip police cars and engage in violent acts doesn't energize\n",
      "@realDonaldTrump Hit em hard! The thought police are out trying to make people afraid to speak up.\n",
      "RT @Inductivist: Simplest explanation for high rate of #black shootings is more frequent, antagonist encounters with #police. #MAGA #Trump…\n",
      "Vandal spray paints’ I’m drunk “on the side of the police station – Mural bikini-clad… https://t.co/wW5wcXH3uL https://t.co/3F9mUlGFgu\n",
      "Donkey puts all police lives in jeopardy by supporting a hate group. Clearly meets legal definition.  https://t.co/Tq30OrxvSo\n",
      "RT @Combat_Jack: When your local police department is woke: https://t.co/o8GEgVN6EY\n",
      "RT I turned into the FBI make this go viral I said we will be watching I'd like to turn into the police https://t.co/CutJK5lEDN\n",
      "RT @jdawsey1: De Blasio has upset many of the police reform advocates and the police union. But Trump has him again talking about policing…\n",
      "@realDonaldTrump You are the difference maker our police and veterans need you - we need you!!!! DJT 2016\n",
      "@mjalethia00 what I said was certain groups within BLM have chanted about hurting police. Thays why trump called them terrorists\n",
      "RT @TheWayWithAnoa: It can if you are Black and Brown and police are present https://t.co/qTmad17d2S\n",
      "@realDonaldTrump Trump is with every veteran, police, senior citizen, regardless of race, or gender\n",
      "@HillaryClinton 500 citizens applied within 12 days at the police chief request..\n",
      "@realDonaldTrump @MichiganDems @FlaDems @OhioDemocracy @PennDems did Hillary notice not all the police executed in LA were white?\n",
      "@HillaryClinton can u takle cancer police brutality and racial tension.. prolly not u got better things to focus on huh\n",
      "“Prosecutors have more power than any judge, any supreme court, any police officer, or any attorney.” @Fusion https://t.co/eNiZVZEXAe\n",
      "@HillaryClinton don't forget to tell Bernies ppl that \"I hear you\". Don't forget to tell the police \"thanks\"..the world is yours..\n",
      "RT @Deanofcomedy: How upset is Trump?! No indication of terrorism in London stabbing, police say https://t.co/302z7dt8J4 via @WSJ\n",
      "TRUMPED!\n",
      "\n",
      "WA driver caught by police in carpool lane with Trump cutout. \n",
      "\n",
      "https://t.co/ZjFd5JjZQp https://t.co/pM2nhoYh1S\n",
      "A man in Clinton was shot 14 times by police\n",
      "RT @TheBaxterBean: Donald Trump's lobbyist/staffer encouraged Louisiana police to abduct &amp; 'disappear' black activist Deray. #FreeDeray htt…\n",
      "RT @DownunderHorse: Clinton works with a police officer who was injured in the line of duty.  https://t.co/EhQNIuROtf #ApplyTheMethod\n",
      "@HillaryClinton Stop fighting with the police! The place to argue is in the courtroom.\n",
      "BBC News - Indian 'two-headed snake' rescued by police from gang https://t.co/5a3LWflOkW INDIAN POLICE CATCH #TRUMP? OR IS THIS A SCIENCE  A\n",
      "@HillaryClinton hey what are your veiws on police brutality please explain because my brothers are goin insane\n",
      "Trump needs to thank our police forces for keeping us safe, and of course some people will die, it's called collateral damage.\n",
      "The police killings in the last few weeks are are unacceptable. They are not statistically normal. https://t.co/pQXbFvCTn9\n",
      "@matthew_colley well done by ur police.   &amp;btw Trump is pro police unlike the other side.Not that u really care but u did bring up trumpians\n",
      "fuck search warrants trump gone make it possible for the police and soldiers to come in out house smh. just to check if we have papers lol\n",
      "@MrClarkMHS #PresDebateMrClark Trump and Clinton both agree on better training police officers to avoid shootings\n",
      "@realDonaldTrump Promise to solve the problem with the police arrives - that shoot and kill! a lot of the life of your cops took so\n",
      "#Belgium #Trump #ISIS 2 police officers wounded in machete attack in Belgium  suspect killed https://t.co/iKcO2bMT2Q\n",
      "Clinton police: Woman arrested with cloned credit cards https://t.co/QMEnWkoD9M https://t.co/mi6ktEJEZ2\n",
      "@TheJuanWilliams Black America loves Donald J. Trump AND their police. Juan Williams Hates America and our police.\n",
      "RT @Carmelcandi68: The pilot, Vincent Caldara, is a former police officer and chairman of Trump's Florida Law Enforcement coalition\n",
      "https:/…\n",
      "RT @DailyMirror: Donald Trump suggests police shooting of black man in Milwaukee was 'justified' https://t.co/7rpJNGSZuz https://t.co/yIXjV…\n",
      "it’s hilarious that the triad (Rudy/Newt/Trump) with NINE marriages between them are now the morality police! https://t.co/aDEHzKp2kC\n",
      "@realDonaldTrump ...from the police especially!\n",
      "the way trump is dodging the police brutality question 💤\n",
      "@hillaryclinton Wanted to propose police have annual psych eval. to ensure Stanford Experiment hadn't made a big comeback. #PollyGate\n",
      "@HillaryClinton I'm with you BUT I still need to understand how I will be able to walk down my street and not fear a police officer\n",
      "News Max what make you think that Trump is wrong on stop and fix, isomeone breaking the law then police have every right to fix, FU News max\n",
      "RT @caitleppert: A black man was shot by police yesterday bc he was acting 'erratic.' Flotus called Trump 'erratic' today, so I'm waiting o…\n",
      "RT I turned into the FBI make this go viral I said we will be watching I'd like to turn into the police https://t.co/CutJK5lEDN\n",
      "@michellemalkin @FoxNewsInsider if Trump didn't tell them what they were missing they would have missed - flags, police, veterans, etc.\n",
      "@hillaryclinton Wanted to propose police have annual psych eval. to ensure Stanford Experiment hadn't made a big comeback. #PollyGate\n",
      "@HillaryClinton, PIMP that RAPED Karen watson as well, &amp; LIED UNDER OATH &amp; DEFINITELY colluded w/ the South SF police&amp;Millbrae police -cont\n",
      "@Iam_Steppenwolf @ThePlumLineGS Not here to promote Trump only commenting on this thanks for the grammar police so important on Twitter\n",
      "RT @KNX1070: James Comey: #FBI will have database that tracks #police use of #deadlyforce https://t.co/hw84MneKmc\n",
      "@realDonaldTrump, you're talking about black on black crime instead of police killing unarmed black men. Stop bait &amp; switching BOY\n",
      "RT @DrStevePerry: Again, I'm not gonna dog @HillaryClinton I just want polices that will specifically target Black Americans. All I need ri…\n",
      "@realDonaldTrump did you just say that you have endorsement from every police officer?\n",
      "RT @pollreport: Would be better dealing with racial problems between police &amp; blacks:\n",
      "Trump 28%\n",
      "Clinton 48%\n",
      "(NBC/WSJ, RV, 7/31-8/3)\n",
      "https:/…\n",
      "RT @KateAronoff: Only took 45 mins. for Clinton to mention systemic racism...and then ask us to put ourselves in the shoes of police office…\n",
      "@realDonaldTrump @PoweaAndrew Simple praising police and acting like they are all good cops is naive! They must stop killing unarmed people\n",
      "@realDonaldTrump Why do you always see police speeding butt they always want to give you a ticket for speeding do https://t.co/wjDDt3Uq7q\n",
      "Ask yourself when police IA fails they call @TheJusticeDept when @LorettaLynch fails. Who you gonna call?  https://t.co/j6wqrSEgn8\n",
      "RT @OuchikhKarim: #Trump : \"Nous ne sommes pas la police du monde\". Trump président, ce sera la fin de la diplomatie impérialiste américain…\n",
      "RT @Lazytncajun43: They should ask the police https://t.co/iyocZSoV2v\n",
      "#Breaking: SEVERAL #NC #Trump staffers complained about angry fellow staffer brandishing a gun at them. No one reported to police? #WTAF\n",
      "Some of our top stories this morning:\n",
      "-Game day in Athens\n",
      "-I 81 shooting update\n",
      "-Clinton HW police chase\n",
      "Join @WVLTDonovan &amp; @wvltkyle at 6!\n",
      "RT @WLBT: JUST IN: Clinton police arrest former pro soccer player turned drug trafficker https://t.co/tvSIOefxGw https://t.co/Oyc5ZvbAEJ\n",
      "@realDonaldTrump The FBI reports shooting deaths of police officers is down from 2015\n",
      "@ him pussy ass police https://t.co/ZzI3ozs53X\n",
      "RT @lucca_timmerman: Trump: Let the police take guns from all suspicious looking people!\n",
      "\n",
      "Hillary: More background checks\n",
      "\n",
      "Public: Hillary…\n",
      "Donald Trump literally endorses a police state\n",
      "get a gun policy, stop police brutality towards the black community, end white supremacy/privilege, deport trump..somebody come and fix this\n",
      "All communities want safety, want a working relationship between police and community, not focusing on Latino &amp; POC.@HillaryClinton https://t.co/1IRKnjDNnE\n",
      "El Cajon Black Lives Matter 'police shooting Victim' Was to Be Deported for Crimes, Twice https://t.co/9IFH5dtXFN #MAGA #immigration #trump\n",
      "#pressrelease #HillaryClinton Condemns recent #shootings of #police https://t.co/Mrop4XAoe8\n",
      "Clinton who has contributed to the war on police has divided the American people further not brought them together.\n",
      "@HillaryClinton https://t.co/FsCxltQRRV I am innocent. I am an educator. I am a victim of police misconduct.#Help\n",
      "@HillaryClinton https://t.co/FsCxltQRRV I am innocent. I am an educator. I am a victim of police misconduct.#Help\n",
      "@realDonaldTrump @mainegop Lying today again According to new national statistics,42 police officers were shot and killed in 2015 -25 in '16\n",
      "A rag altright newspaper just like @BreitbartNews. They call it an assault but where are the police reports, where are the prosecutions? https://t.co/KUkAyuGnpo\n",
      "Dallas police group leader sues Obama, Clinton, Soros, et al for inciting race war – Conservative Base https://t.co/dqg9O5lNrs\n",
      "@realDonaldTrump Promise to solve the problem with the police arrives - that shoot and kill! a lot of the life of your cops took so\n",
      "@realDonaldTrump You are the difference maker our police and veterans need you - we need you!!!! DJT 2016\n",
      "Now that Brendan Dassey is relevant again, it made me realize his original statements to the police sounded like Trump explaining his plans.\n",
      "@HillaryClinton ofc there is good police JUST AS THERE IS GOOD POVERTY stop fighting back discrimination with DISCRIMINATION. #PresDustin\n",
      "RT @HillaryClinton: \"Killing police officers is a terrible crime...anyone who kills a police officer and anyone who helps must be held acco…\n",
      "@realDonaldTrump Just witnessed on Bourbon St in NOLA black and white people thanking police officers. @SheriffClarke\n",
      "@Iam_Steppenwolf @ThePlumLineGS Not here to promote Trump only commenting on this thanks for the grammar police so important on Twitter\n",
      "RT @JHowieJr: Welcome to the Trump police state. This is just a prequel. https://t.co/0Vm5BSLi81\n",
      "@HillaryClinton allowed them with honor n submission.  Broaden the interpretation of a dereliction of duty with our police officers. .\n",
      "\"he's wearing a trump shirt she's wearing a state police shirt you know they only fuck in missionary\"\n",
      "Clinton talks about reforming criminal justice system \"from end to end\" for young people of color and police officers #DemConvention\n",
      "RT @Hubah_Hubah: @jasonmyrt @975TheFanatic police escort for Clinton in Hatfield.... https://t.co/BxwiHjCYPG\n",
      "Hillary Clinton is NOT PROPOSING any laws to stop the police from killing unarmed blacks\n",
      "\n",
      "But House Negroes say she's a good white woman\n",
      "@joelfwilson \n",
      "\n",
      "Damn near your whole fkn race is insane. You bunch of bitches running up under Trump like some hos. Fk your police in the ass\n",
      "@CousinSyl @karenhunter they are drug testing the driver of the train, but not the knuckleheads like trump and police\n",
      "RT @espy25: @davidaxelrod @HMiglino Trump say HE embarrassed us into flags, police, soldiers, etc. Didn't realize he was on the committee!…\n",
      "News Articles | Mail Online: 'He did everything you're supposed to do!' Trump says Tulsa police officer may have ' https://t.co/PkUDlE6Eoa\n",
      "@HillaryClinton when the police are outgunned, I call that a victory for the proletariat!\n",
      "@realdonaldtrump stop comparing police killings to criminal killings!\n",
      "@HillaryClinton. Lupe Valdez, police officer from Dallas, brought  me to tears.\n",
      "If police are anti Black, DON'T CALL THEM TO YOUR CRIME FILLED NEIGHBORHOODS EVERY 15 MINUTES. https://t.co/YDctoLp3qp\n",
      "@realDonaldTrump \"we need more police\"\n",
      "RT @Rschooley: I'd call the police. https://t.co/YNNAMKnRdd\n",
      "WTK. People where raised to respect the police. Do what they ask. Parents do not teach respect, dignity, be a good person &amp; follow the rules https://t.co/P1OmnwXWO0\n",
      "Trump was in Ohio today and was pissed that the police turned people away because the room limit was reached. 🙄🙄🙄\n",
      "RT @HillaryClinton: We've also seen the targeting of police officers—but so many serve every day with courage and honor and are committed t…\n",
      "@matthew_colley well done by ur police.   &amp;btw Trump is pro police unlike the other side.Not that u really care but u did bring up trumpians\n",
      "@realDonaldTrump This is just one of millions of proud American Muslims soldiers, police, firefighters who love 🇺🇸 https://t.co/UWmJ6j2FQZ\n",
      "RT @igorvolsky: The rate of police deaths is not skyrocketing. On duty officer deaths are actually down 1% from 2015 https://t.co/ydverv4L8…\n",
      "@HillaryClinton way to pander to cops. Where was your support for cops when you refused to meet with the FOP on police issues #FOPforTrump\n",
      "Anti police anti white anti working class anti trump anti saving babies https://t.co/APiI6pp9O7\n",
      "@wolfeprowler1 @iNewsReporter @DrJillStein I can't imagine Trump being better, he called for more police, not less.\n",
      "get a gun policy, stop police brutality towards the black community, end white supremacy/privilege, deport trump..somebody come and fix this\n",
      "@realDonaldTrump fuck the police\n",
      "RT @OppLives: #Clinton \"portrayed most American police officers as either poorly trained or inherently prejudiced\" - @TomRtweets  https://t…\n",
      "@sexysportsfan whatever else, Trump is not pro war/world police. One of the few things he has been consistent on.\n",
      ".@HillaryClinton: ‘I alone can fix it’ — Is Trump forgetting soldiers, police officers, teachers? #DemConvention https://t.co/s1yqtHbxrd\n",
      "RT @WGNNews: #BREAKING Heavy police presence at Clinton and Lake in downtown Chicago. Photo via @PaulKonrad https://t.co/sGnCOAJIWw\n",
      "@HillaryClinton hey what are your veiws on police brutality please explain because my brothers are goin insane\n",
      "@realDonaldTrump the police should not be props...for trumps hate...\n",
      "Those citizens who were shot and killed without cause by those police were human, too. https://t.co/5WuMbzGaz3\n",
      "Richard Campbell charged w/ assault on female. #Asheville police say he punched 69-year-old #Trump protester on oxygen. https://t.co/EvJjp4z8YW\n",
      "RT @BoAzMaSn: @CousinSyl @karenhunter they are drug testing the driver of the train, but not the knuckleheads like trump and police\n",
      "RT @JRubinBlogger: Trump calls for police to take guns during stop-and-frisks https://t.co/Pmvt8PMaxb NRA should be thrilled..\n",
      "Pilot who led #Trump's police backers fired after battery arrest | New ... https://t.co/OHEk8ex71I\n",
      "all the chaos in city caused by this-traffic-fired dept police-disgrace-put him in jail https://t.co/CFKkjUZlZZ\n",
      "Police in El Cajon shoot disabled man, reportedly confiscate cell phone footage\n",
      "Another shot by fucking police https://t.co/Dz3FWuC0tk\n",
      "@realDonaldTrump   Just want you to know my local police are pulling for you. We all are. Keep focused. The silly season is in full force.\n",
      "Obama, Clinton, et al. blamed for anti-police violence https://t.co/mIIiC1RvfF Don't forget Eric Holder and his successor Loretta Lynch\n",
      "@realDonaldTrump just said the police are afraid to do anything. That's funny cause they're not afraid to kill unarmed civilians at all\n",
      "RT @MarcACaputo: I'd like to thank Miami police for temporarily detaining me just long enough so I missed security sweep/was denied entranc…\n",
      "RT @DrStevePerry: Again, I'm not gonna dog @HillaryClinton I just want polices that will specifically target Black Americans. All I need ri…\n",
      "\"He's a very, against police judge\" - Trump #debatenight https://t.co/XAQfAhHPTS\n",
      "https://t.co/JTiMHPzlHt LOL@ the echo chamber trying to police itself.\n",
      "@HillaryClinton \"two tragic shootings in Tulsa &amp; Charlotte\" Blames #Charlotte police for shooting armed felon who refused orders to drop gun\n",
      "NYC needs a dynamic innovator in charge of police: how about @shingy?  https://t.co/tenrf24w0m\n",
      "@realDonaldTrump hey Trump, how do you  feel  about police officers  shooting  and killing  civilians  ?\n",
      "@HillaryClinton @realDonaldTrump we want you to lock these police up the same way you want to lock up \"thugs\" because that's what they are https://t.co/GeC8FcZ10i\n",
      "WATCH! #HillaryClinton tells activists: 'black children being killed by police' (video) https://t.co/mhk5e6eNji\n",
      "The SHOE fits a 2016 duplicate of Muslims, Black Panthers,  police killings, and we found the Queen Bee &gt; Hillary Clinton \"Police are Pigs\"\n",
      "@realDonaldTrump because puppets don't expose other puppets while pushing the agenda. Code of silence just like corrupt police 🙃\n",
      "RT @kevinabstract: fuck chick fil a donald trump and the police\n",
      "God bless our police be all you can be .take out the thug trash https://t.co/mIEXBjpLT7\n",
      "@realDonaldTrump maybe the police will be safer when they stop murdering black people?\n",
      "I wanna be the mikael felps of life, fuck the police https://t.co/3QKHdZvwMJ\n",
      "or you could shoot them.....the police way https://t.co/ysfHym8436\n",
      "I happened to walk by. There were 4 people standing outside with Trump signs. Waste of police resources. https://t.co/pjsvpPYArQ\n",
      "Trump more of realist than he gets credit for https://t.co/9wQFJqSozl  #security #police #doorman #nightclub #sia #closeprotection #bouncer\n",
      "No police action on 'Mediscare' txts.\n",
      "@realDonaldTrump it is sad, but so is the increase of police shooting unarmed people. Will you also work on protecting citizens?\n",
      "Donald Trump is absolutely pure pro police and Hillary Clinton is pro anti police. There's no such thing as good citizens or good cops only.\n",
      "RT @TheWayWithAnoa: It can if you are Black and Brown and police are present https://t.co/qTmad17d2S\n",
      "Should #Trump shoot someone in the middle of 5th ave, will police take him to buy a burger or the whole Burger joint chain? @deonjoubert\n",
      "A shooter in Houston, who wore Nazi clothes, shoot and injured 6, then was shot and killed by police. The Nazis in Trump's America are real. https://t.co/9ZBbj5Z7Df\n",
      "RT @TheWayWithAnoa: It can if you are Black and Brown and police are present https://t.co/qTmad17d2S\n",
      "@realDonaldTrump they think you aren't with our Muslim soldiers or Muslim police\n",
      "RT @HillaryClinton: We've also seen the targeting of police officers—but so many serve every day with courage and honor and are committed t…\n",
      "Trump says we need MORE police. Not BETTER police. Sitchoassdine\n",
      "@realDonaldTrump dude u r so transparent it's funny. To capitalize on a shooting of police officers for your own gain is pathetic! #selfish\n",
      "RT @Haitch7: I thought you believed in innocent until proven guilty or is that just tweets  sent to fellow Nats charged by the police https…\n",
      "Pilot who led Trump's police backers fired after battery arrest via @NYPost\n",
      "\n",
      " https://t.co/jm6VvzdSsQ\n",
      "@realDonaldTrump: \"I'm gonna take guns away from gangs…\" oh so you're gonna disarm the police? dope\n",
      "@MammaMumra @YesArgyll waiting for media to report @AJABurnett walking into #Banchory police station https://t.co/5Ym2QBWeSf\n",
      "@realDonaldTrump @HillaryClinton someone should call the police!!! Donnie boy is killing  Hillary  !!! I'm loving it\n",
      "RT @HillaryClinton: We've also seen the targeting of police officers—but so many serve every day with courage and honor and are committed t…\n",
      "RT @ItsNotEmLou: Trump is saying if black men are being killed by police it is justified because the police are trying to restore law and o…\n",
      "In Missouri for many the lesson of Ferguson is not that the police used too much force it’s that it used too little. https://t.co/SuuiLe7UaJ\n",
      "RT @BryanDawsonUSA: As fascism draws nigh in America, the KKK agrees with Trump on the police state: https://t.co/chhD3R6KUp\n",
      "RT @CommanderXanon: I wonder how many unarmed innocent black people will be murdered by police during 8 years of Clinton. Will she stop the…\n",
      "RT @IsaacDovere: Waukesha, police state https://t.co/3CxC7P8DVL\n",
      "RT @suzywoR: Kathy Wray Coleman was picked up on an outstanding felony warrant by Cleveland police as she turned up to protest against Dona…\n",
      "Trump has got to be a spoof hasn't he? Can barely string a sentence together. \"a very against police judge\". What?\n",
      "@DouthatNYT @IChotiner @jonathanchait she shouldve run more centrist/hawkish on natsec/police. Gave Trump opening with recent events.\n",
      "RT @BlakeDontCrack: Hillary Clinton: \"our police are outgunned\" \n",
      "\n",
      "This is false.\n",
      "\n",
      "The police are more militarized than the American militar…\n",
      "\"He's a very, against police judge\" - Trump #debatenight https://t.co/XAQfAhHPTS\n",
      "A black man surviving a police is some kinda big achievement? https://t.co/FpPqEaY6Me\n",
      "RT @BradJLatta: That is what we call a police state.  https://t.co/Wj5myg2XMy\n",
      "RT @JillDLawrence: Someone totally needs an editor. Either that, or call the police. https://t.co/h2UdeMs4vI\n",
      "What's the relationship between police shootings of unarmed black men, Trump, terror &amp; our own role as publishers? https://t.co/GZ3SPuhhXQ\n",
      "@BarackObama our police kill our people @ extremely high rates~mass shootings every week~half of country wants trump~gold standard 4 what?\n",
      "What will Clinton and Trump say about social issues between police corp and the civil society? It'll be an interesting topic..\n",
      "'Clinton hears us on issue of police brutality'\n",
      "\n",
      "She speaks of 'black on black' crime &amp; promotes policing models based on occupation of Iraq\n",
      "RT @ATPJudge: Whatever bounce DT got after killings of police has been blown away by his erratic behavior  https://t.co/XDQwjyaqqe\n",
      "@realDonaldTrump That is a local &amp; stare issue, we do not need federal control of our local police forces.\n",
      "@hillaryclinton Me too. Living in the bomb factory and not telling police, then it didn't! Kahn=Con\n",
      "RT @WLBT: JUST IN: Clinton police arrest former pro soccer player turned drug trafficker https://t.co/tvSIOefxGw https://t.co/Oyc5ZvbAEJ\n",
      "Trump spokeswoman Katrina Pierson blames Black Lives Matter for increased police deaths: https://t.co/BEaU0IoXYj https://t.co/fm37X8drXh\n",
      "RT @timfunk: Clinton: \" Violence has touched the family of police officers ... From Dallas to Baton Rouge.\" #charobs https://t.co/ByekYZq3AP\n",
      "RT @kevinabstract: fuck chick fil a donald trump and the police\n",
      "...and serenading w/ a song about black people gunned down by police no less\n",
      "come on, mary. stop the nonsense. https://t.co/DFyTjFTnUm\n",
      "Donald Trump attacks Muslim father’s c https://t.co/hU03jMuWCv  #security #police #doorman #nightclub #sia #closeprotection #bouncer\n",
      "Love all these cheaters like Guiliani &amp; Trump trying to police how #HilaryClinton should have reacted to being cheated on! #OldWhiteGuyCrap\n",
      "Was gonna give Trump cred for using braggadocious in a sentence. Then he said \"very against police judge\" as a sentence &amp; my arms fell off.\n"
     ]
    }
   ],
   "source": [
    "for text in false_pos['text']:\n",
    "    if 'police' in text:\n",
    "        print(text)\n",
    "#     if 'sports' in text:\n",
    "#         print(text)"
   ]
  },
  {
   "cell_type": "code",
   "execution_count": 129,
   "metadata": {},
   "outputs": [
    {
     "name": "stdout",
     "output_type": "stream",
     "text": [
      "Newt says Hillary handled the recent terrorist attacks just like she did Benghazi. Blaming the entire thing on Trump.   #FtMyers #Chelsea\n",
      "Pity Sick Hillary didn't give our Patriots in #Benghazi the kind of assistance she got on 9/11. #NeverHillary https://t.co/oCZRFnW62m\n",
      "Targets: Personal Server, Clinton Fdn, ISIS/Benghazi/Mideast Fail, Russian Reset, War On Energy/Guns/Cops, ACA, Debt, Unvetted Muslims #tcot https://t.co/6V8MkK16fY\n",
      "Benghazi survivor John Tiegen warns all Americans  Join the march in NYC  https://t.co/1qGFc9szqb https://t.co/44ST4bwdvi\n",
      "Check out 'Whistleblower: Hillary Could Have Saved #Benghazi Lives' on Tea Party Command https://t.co/AxbrR57vKC  https://t.co/5Lz2fLbujT\n",
      "If only Hillary was as good at preventing tragedy as she is at exploiting it! Disgusting!!! #Benghazi https://t.co/AYnuVcVLLB\n",
      "'@MiceeMouse @realDonaldTrump Trump should put families of Benghazi victims front and center or Bill's flavors of the week☺️��'\n",
      "Clinton staffer slams Benghazi committee leaks as \"warfare\" in new #podestaemails https://t.co/e8dg7wy9Fq https://t.co/JeKfXJBj8Q\n",
      "Next on @seanandfrank: Lydie Denier, former fiancée of murdered Ambassador Chris Stevens joins the show to discuss her new book. #Benghazi https://t.co/czo1VDN1SF\n",
      "RT @thehill: Benghazi committee plans new interview even after releasing report https://t.co/eq7EkwMLxE https://t.co/gp6KjQSuqh\n",
      "Obama did not attend his daily intelligence briefing even after the terrorist attack in #Benghazi! #BenghaziReport https://t.co/P4jgL6HkaL\n",
      "Newt on HIllary: \"How cold and heartless do you have to be to lie to a mother about the death of her son?\" #Benghazi  https://t.co/rrECsy4XUk\n",
      "(IBD) Hillary Clinton Email Gaps Hide 'Pay For Play,' #Benghazi Truth https://t.co/vFPI7XhwLO - @IBDeditorials - https://t.co/d7HrXZZ4Lw 172\n",
      "#ThingsMoreTrustedThanHillary Let's ask the survivors of #Benghazi about this one. #Debates @warriors_mom\n",
      "I'll confront Hillary everywhere about #Benghazi with ur help. Twitter censored this. Buy~> https://t.co/wW7rIEOt8m https://t.co/3IXEGsrePF\n",
      "#BasketOfDeplorables Hillary leaving our men to die in Benghazi...now that was deplorable. And inexcusable.And evil. https://t.co/gWU5GFxLe1\n",
      "#ZombieHillary was passed out (just like Benghazi) & could barely spare the energy to address the terrorist attacks. https://t.co/anPNua3eJK\n",
      "Targets: Personal Server, Clinton Fdn, ISIS/Benghazi/Mideast Fail, Russian Reset, War On Energy/Guns/Cops, ACA, Debt, Unvetted Muslims #tcot https://t.co/6V8MkK16fY\n",
      "Lib. Media and HRC angry that @realDonaldTrump called it right. Unlike HRC/BHO with Benghazi. It's Terrorism! #Trump2016 #NEVERHILLARY\n",
      "Benghazi Survivor: No Debate Questions on Attack Shows Lester Holt's Bias   https://t.co/L3gnohDAJW https://t.co/L9oQyYeRP6\n",
      "Obama Administration officials knew #Benghazi was a terrorist attack. How would you describe their attitude towards this situation now?\n",
      "\"Bogus plagiarism narrative distracts from Benghazi message\" https://t.co/tfsKV1OBYp https://t.co/8ctyOXODoB\n",
      "My @newyorker interview today with Chris Stevens family about who they fault for the #Benghazi attack. https://t.co/336LiIJFnn\n",
      "JOHN BOEHNER: I’M VOTING FOR TRUMP https://t.co/nnS2e8RSOl via @trump_woman #NeverHillary #AmericaFirst #Benghazi #TrumpTrain #LawAndOrder\n",
      "'@HillaryClinton Release the Benghazi emails! https://t.co/lMlBXrF1sz'\n",
      "Say \"Benghazi\" to a Republican delegate and watch what happens (video): We played a word game at the Republican ...  #Cleveland #politics\n",
      "Not shocked by Hillary claiming no lives lost in #Benghazi American Lives mean nothing to her.. https://t.co/l8YcjS6qVA\n",
      "\"Nothing Donald Trump said got four people killed in #Benghazi.\" ~ Curt Schilling https://t.co/aQaKC8wQwj\n",
      "Because Benghazi is his fault? He took foreign bribes? Classified emails, right?? https://t.co/YGZGoWdNxV\n",
      "NRA to spend $2M on Benghazi-themed ads—$2M more than they've allowed Congress to spend on gun violence research since blocking funds in '96\n",
      "I'll confront Hillary everywhere about #Benghazi with ur help. Twitter censored this. Buy~> https://t.co/wW7rIEOt8m https://t.co/gKUlonA7T5\n",
      "'@slone @realDonaldTrump I keep tweeting to have Benghazi moms in front row near Cuban! HRC should have to face THEM at this debate'\n",
      "Final Benghazi report: No 'smoking gun' pointing to Clinton https://t.co/rYTawvHp0k \\| https://t.co/KRZbjH9cFM https://t.co/3gysbNuhOs\n",
      "RT @Sheep2Wolves: And @HillaryClinton apologizes to #Benghazi families and Libya citizens in 3....2... https://t.co/1xarbUnSCP\n",
      "I'll confront Hillary every where about #Benghazi with ur help. Twitter censored this. Buy~> https://t.co/wW7rIEOt8m https://t.co/vHZNdh58ac\n",
      "Hillary and Obama blamed Benghazi on a video...to the faces of families who lost loved ones. @thehill\n",
      "RT @FoundingFodder: Because Benghazi is his fault? He took foreign bribes? Classified emails, right?? https://t.co/YGZGoWdNxV\n",
      "Mother of #Benghazi Victim Sues #CrookedHillary: 'I Am Still Here and I Want Answers!'  https://t.co/6WRE5Zs5WV https://t.co/StG8Rfueas\n",
      "'@NewDay @CNN What's worse? Fat shaming or deliberately allowing Americans to die abroad? #Benghazi #hillaryforprison'\n",
      ".@HouseFloor \"I TREMBLE 4 MY COUNTRY..\"!  #tcot #ccot #Texas #ProtestersAreCriminals #Benghazi #NRA #2A #Military  https://t.co/Ey4gD8bDub\n",
      "Never forget #Benghazi Never forgive Hillary Clinton for murdering Americans https://t.co/amTKWhCKVd\n",
      "(IBD) Lying About #Benghazi Libya Terrorist Attack  Sole Hillary Accomplishment - https://t.co/Y7j8vNApRx  - https://t.co/xquFC987gJ 123\n",
      "Maybe at the end, Hillary could offer a long overdue apology to the families of the #Benghazi victims? @mitchellvii https://t.co/mfzOsiU4Gm\n",
      "#FlashbackFriday April 2011 John McCain visits Benghazi with Chris Stevens to arm & recruit al-Qaeda terrorists for Hillary's war in Libya https://t.co/6B37QgWLLL\n",
      "He's so right. The people have no confidence in the system because no one is ever held to account (IRS,VA, Benghazi, emails). #AnEndlessList https://t.co/GaAI84Qpmq\n",
      "RT @JamilSmith: I’d missed the final Benghazi report. No new evidence against @HillaryClinton. Surely we’ll all just move on. https://t.co/…\n",
      "#Comey had to drop the charges against #CrookedHillary. She threatened to make him Ambassador to Libya. #Benghazi https://t.co/BgbKLOV2Rl\n",
      "Pat Smith: \"My son is dead because of @HillaryClinton\" #Benghazi https://t.co/4Q4xSYKX0I\n",
      "I'd Like to Ask #HillaryClinton About #Benghazi https://t.co/fK05NzArq8 #NoHillary2016\n",
      "NEW EMAIL shows Pentagon ASKED Hillary to LET THEM send help to Benghazi, proving Leon Panetta LIED!! https://t.co/pYioIzEhDO #Wikileaks\n",
      "'@HillaryClinton Did you apologize to the #Benghazi families for the despicable treatment by you? HYPOCRITE #Hillary4Prison #lockHerUp #MAGA'\n",
      "The Benghazi Team Had No Guns, Why Should You? - https://t.co/Kzu6pizTz4 #Guns #2A #Freedom\n",
      "Hillary used covert Google server 2 hide Benghazi Emails, tech giant complicit #NeverHillary  https://t.co/hqxpLrgJf3 https://t.co/ep3ucf102H\n",
      "RT @MargoPatriot: Well that certainly would explain Benghazi #HillarysHealth https://t.co/yDhk9wisng\n",
      "F*ck you Hillary! #GetMyAttentionIn3Words  #Benghazi https://t.co/zrbYGcZdOM\n",
      "Check out 'Whistleblower: Hillary Could Have Saved #Benghazi Lives' on Tea Party Command https://t.co/AxbrR57vKC  https://t.co/5Lz2fLbujT\n",
      "Obama's Rasputin Valerie Jarrett Gave #Benghazi Stand-Down Order - https://t.co/MpxgOiLiZB  - @IBDEditorials - https://t.co/96r7jaVcGF\n",
      "#Benghazi shirt at Trump rally in Everett #TrumpWA https://t.co/A7JH1zliup\n",
      "Every time you RT this pic it will notify @HillaryClinton and she will see the face of #Benghazi victim's mom Patricia Smith  Make it viral! https://t.co/8vJ3ZdtQcc\n",
      "'@PinkAvis @TeamTrump @NaturallyDeep @TheGreatFeather @Stacy4Trump @ShmooReport @pyrrhop @oscarsrus @ikedog101 Benghazi Face https://t.co/py5X0QOzpx'\n",
      "Hillary Fights Back Against Default Judgement In Favor Of The Parents Of Benghazi Victims… https://t.co/QlnZUlulQE\n",
      "RT @Conservatexian: From Whitewater to Benghazi: A Primer on Bill and Hillary Clinton Scandals - The Atlantic https://t.co/1bna5HxFPP\n",
      "RT @brokencountry1: #Comey had to drop the charges against #CrookedHillary. She threatened to make him Ambassador to Libya. #Benghazi https…\n",
      "Hillary Clinton just said we didn't lost a single American in Libya. We remember your crimes #Benghazi #NBCNewsForum https://t.co/0rxyvMeKPL\n",
      "JUST IN: Benghazi Committee: Obama blamed video despite eyewitnesses https://t.co/2adwpyF7th https://t.co/lkUp7p2iHp\n",
      "I'll confront Hillary every where about #Benghazi with ur help. Twitter censored this. Buy~> https://t.co/wW7rIEOt8m https://t.co/23LUTKLMjv\n",
      "It was Colin Powell who told Hillary to leave #Benghazi victims to die! #BlameColinPowell https://t.co/ZAZ2M8td4z\n",
      "Obama-Clinton have destabilized the Middle East Handed Iraq, Libya, Syria to ISIS #Benghazi ��FAILED Americans #MAGA https://t.co/r59baxuVc1\n",
      "JUST IN: Benghazi Committee: Obama blamed video despite eyewitnesses https://t.co/2adwpyF7th https://t.co/lkUp7p2iHp\n",
      "Shameless Hillary Again calls #Benghazi Mom Patricia Smith a Liar:- American Thinker - https://t.co/3ZpZA5gpTZ  https://t.co/VNBNXlqOIo 13\n",
      "We called for #13Hours and you went back to bed!!   #Benghazi  #Benghazi  #Benghazi  #Benghazi    NEVER HILLARY‼️ https://t.co/2nh5auuSbt\n",
      "Why I'm not voting for Hillary:  Perjury� Benghazi� \"Classified\"� Pay to Play� Anti-guns� Anti-coal� Basket of Deplorables�  #HillarysHealth\n",
      "RT @gerfingerpoken2: AF Whistleblower: Hillary Could Have Saved Benghazi Lives - American Thinker #PJNET 999 - https://t.co/W1iwTRimUA  htt…\n",
      "RT @jojoh888: I will NEVER vote for #Hillary I have self respect &amp; can't support her no matter what. #HillarysEmails #Benghazi #HillaryLies…\n",
      "She couldn't (wouldn't) help 4 Americans in Benghazi, now she wants us to believe she can protect America. https://t.co/RHdimDtUcg\n",
      "Afghan Benghazi: Extortion 17, Betraying Seal Team 6 https://t.co/jRbK6D9Aaw\n",
      "#Benghazi https://t.co/zMb2goXCLn\n",
      "RT @AtlBlue2: Benghazi: A comprehensive guide to a fake scandal https://t.co/EHq9vRJ1HM\n",
      "Benghazi Report Says Clinton Should Have Seen Risks: CNN  #politics\n",
      "I’d missed the final Benghazi report. No new evidence against @HillaryClinton. Surely we’ll all just move on. https://t.co/YMIqWuyUa3\n",
      "\"What is he hiding?\"  WHAT ARE YOU HIDING  @HillaryClinton ‼️  #BenghaziButcher ⚔️  #PPButcher �  #OhHillNo � https://t.co/35VmZUedrX\n",
      "RT @ryanra: Gr8 story abt BOTH Clintons. https://t.co/7QuGcbn5uF #WitchOfBenghazi #CrookedHillary @GOP @TN_GOP\n",
      "And #Benghazi thing ruined her life! https://t.co/nZFdgyN2dw\n",
      "I've always believed Hillary's Benghazi betrayal was to close the lid on evidence. You, @TGowdySC? ► https://t.co/LPEU0JpwjV\n",
      "WIKILEAKS Exposes Hillary Campaign OPENLY DEBATING how to COVER UP Benghazi Emails @CarmineZozzora @skb_sara  https://t.co/SUSEH3JSfG\n",
      "Benghazi report: Hillary Clinton had the intelligence to know how dangerous Benghazi was  https://t.co/IMQgxH2Fnk https://t.co/uxLqVjUPY9\n",
      "Poll: 62% thinks Hillary is NOT honest and Trustworthy! #Benghazi https://t.co/ehagy7SfQz\n",
      "RT @thehill: Benghazi committee plans new interview even after releasing report https://t.co/eq7EkwMLxE https://t.co/gp6KjQSuqh\n",
      "Check out 'Whistleblower: Hillary Could Have Saved #Benghazi Lives' on Tea Party Command https://t.co/AxbrR57vKC  https://t.co/5Lz2fLbujT\n",
      "#AWordICantStandIs Benghazi But what difference does it make? https://t.co/K3bol3XHQl\n",
      "Colin Powell Called Benghazi ‘Stupid Witch Hunt’ In Email To Condi Rice   https://t.co/I4KiDFISN9\n",
      "Benghazi widow rebukes Clinton for telling country to ‘move on’ ! https://t.co/KnPCzBCeFR https://t.co/c8yauOyiVg\n",
      "If only Hillary was as good at preventing tragedy as she is at exploiting it! Disgusting!!! #Benghazi https://t.co/AYnuVcVLLB\n",
      "Because Benghazi is his fault? He took foreign bribes? Classified emails, right?? https://t.co/YGZGoWdNxV\n",
      "Hillary boasts ‘we did not lose a single American’ in Libya \\| The Right Scoop Benghazi lives don't matter to Hillary https://t.co/QaJJLtB08F\n",
      ".@HouseFloor \"I TREMBLE 4 MY COUNTRY..\"!  #tcot #ccot #Texas #ProtestersAreCriminals #Benghazi #NRA #2A #Military  https://t.co/1a1VwcWBGL\n",
      "Check out 'Whistleblower: Hillary Could Have Saved #Benghazi Lives' on Tea Party Command https://t.co/AxbrR57vKC  https://t.co/5Lz2fLbujT\n",
      "RT @thehill: JUST IN: Benghazi Committee: Obama blamed video despite eyewitnesses https://t.co/2adwpyF7th https://t.co/lkUp7p2iHp\n",
      "\"...sober her up\"??!!! Explains #Benghazi. https://t.co/aMNTZDX3Rq\n",
      "FLASHBACK VIDEO : Crooked Hillary Finds 4 Americans Dead in Benghazi Hilariously Funny https://t.co/dD7jjs3jy8 https://t.co/fk4bU6zlkj\n",
      "RT @avanconia: 💥#Hillary ignored over 600 security requests from #Benghazi  👉Then wiped #HillarysEmails  ☠She REFUSED 2 help🇺🇸  🤔Why campai…\n",
      "Blood on hands #3WordHillary  #Benghazi https://t.co/q5J2cafvY0\n",
      "The butcher of Benghazi made a political photo op. Crooked lying Hillary never POTUS. Vote Trump https://t.co/RAXht19AQi\n",
      "E-mail: Military Offered to Send Rescue Team to Benghazi During Attack... https://t.co/ZREAcaB10S\n",
      "(IBD) Hillary Clinton Email Gaps Hide 'Pay 4 Play,' #Benghazi Truth https://t.co/k96sw7Z69w - @IBDeditorials - https://t.co/ZsqtgvI0pU 287\n",
      "I'll confront Hillary everywhere about #Benghazi with ur help. Twitter censored this. Buy~> https://t.co/wW7rIEOt8m https://t.co/3IXEGsrePF\n",
      "How can anyone vote for her? Benghazi-Emails-Foundation-FBI Lies and Bribes-DNC-Paid Agitators-Open Borders #MAGA #TrumpPence16 #TrumpTrain https://t.co/yqWitSUD06\n",
      "(8) @esglaude @JoeNBC @morningmika  2Bclear - Carson voter who fought against DT in Primary & vowed to vote \"R\" against Hillary=Benghazi/ACA\n",
      "GOP #Benghazi report charges Obama-Clinton did nothing to save lives https://t.co/EDmgpPe72s\n",
      "I will NEVER vote for #Hillary I have self respect & can't support her no matter what. #HillarysEmails #Benghazi #HillaryLies #TrumpPence16 https://t.co/r3qVrxL7t4\n",
      "Shameless Hillary Again calls #Benghazi Mom Patricia Smith a Liar:- American Thinker - https://t.co/RpXzT94PGN  https://t.co/OXCn4nT1eB\n",
      "All the proof Americans need to vote Trump is the memory of ⚰⚰⚰⚰Benghazi how Crooked & Obummer disregarded pleas 4 help! #FollowTheMoney\n",
      "NRA to spend $2M on Benghazi-themed ads—$2M more than they've allowed Congress to spend on gun violence research since blocking funds in '96\n",
      "#ThingsIWontBelieve Hillary couldn't help our people in Benghazi\n",
      "RT @DiamondandSilk: Crooked Hillary Accomplishments: Letting our men die in Benghazi, Risking our national Security and Being a Liar.  #Nev…\n",
      "Colin Powell in #DNCLeak says Hillary Clinton is Unhealthy Bill still Cheats &Benghazi is her fault #WednesdayWisdom https://t.co/WWPXAgVaFf\n",
      "Every1 is hiding the answers on #Benghazi #WeThePeople Have a Rt 2 know  Add the #twibbon -> https://t.co/WtfaseU0Xg\n",
      "RT @gerfingerpoken2: #13Hours and Counting 2 end of Hillary's Candidacy https://t.co/opQvFNc45h - American Thinker - #PJNET #Benghazi - htt…\n",
      "Hillary: \"We didn't lose anyone in Libya\" #Benghazi  https://t.co/J2zgEXZ1Ts\n",
      "#MakeMeHateYouInOnePhrase  \"At this point What Difference Does It Make..\"  #Benghazi  #NeverHillary #NeverEVERHillary   #TrumpsArmy  #Trump https://t.co/HDv7B0Rn1t\n",
      "I'll confront Hillary everywhere about #Benghazi with ur help. Twitter censored this. Buy~> https://t.co/wW7rIEOt8m https://t.co/gKUlonA7T5\n",
      "#Benghazi https://t.co/01DYcIFXrU\n",
      "Hillary blames the anti Muslim video for the demonstrations in Benghazi #LyingHillary  https://t.co/5SNHzc4Uev\n",
      "I'll confront Hillary everywhere about #Benghazi with ur help. Twitter censored this. Buy~> https://t.co/wW7rIEOt8m https://t.co/gKUlonA7T5\n",
      "I'll confront Hillary everywhere about #Benghazi with ur help. Twitter censored this. Buy~> https://t.co/wW7rIEOt8m https://t.co/7XHxGWgnnC\n",
      "#NeverForget #Benghazi #NYC #CrookedHillary #CrookedHillary Join our patriotic march in #Manhattan. #911memorial https://t.co/688y1Pubdl\n",
      "Some people compare Trump to Hitler, but he has never killed anyone. Hillary has. But that's none of my Benghazi.\n",
      "#Benghazi attack was 4 years ago today Hillary says \"we did not lose a single American in that action\" #NeverForget https://t.co/LCTLg7Xh69\n",
      "Email Shows Clinton Campaign Was Leaked Information Directly From Democrats On Benghazi Committee  https://t.co/RLsHb4ob7k . #PodestaEmails6 https://t.co/fmGUk9MWR4\n",
      "When you go to vote never forget about #Benghazi. #Hillary is an evil woman. #LyingHillary #MAGA https://t.co/6CtsqBKpdi\n",
      "Check out 'Whistleblower: Hillary Could Have Saved #Benghazi Lives' on Tea Party Command https://t.co/AxbrR57vKC  https://t.co/5Lz2fLbujT\n",
      "Not Satisfied With Crushing Benghazi Committee, Hillary Goes After GOP Witch-Hunts https://t.co/bfnlXZn9kC #p2 https://t.co/wu8URCiogt\n",
      "Shameless Hillary Again calls #Benghazi Mom Patricia Smith a Liar:- American Thinker - https://t.co/3ZpZA5gpTZ  https://t.co/fpZIMRVAEV 123\n",
      "Mr. Charles Woods says Hillary lied about how his son Tyrone Woods died in #Benghazi https://t.co/DELhwSbfcf\n",
      "The Heartless Evil Lying Witch of Benghazi, amen to that sweet Patriot #NeverHillary #MAGA https://t.co/OGcNywAd4i\n",
      "Ten bodies bearing signs of torture found in Libya's Benghazi: official  #news\n",
      "Benghazi committee plans new interview even after releasing report https://t.co/eq7EkwMLxE https://t.co/gp6KjQSuqh\n",
      "Mother of Benghazi victim: ‘I blame Hillary Clinton personally for the death of my son’  https://t.co/EXHqNUlK5g https://t.co/bsF9cLCybq\n",
      "RT @LindaSuhler: She's got EXPERIENCE, right? Hillary Clinton's Failed Foreign Policy: LIBYA #RadicalIslamicTerror #Benghazi https://t.co/Z…\n",
      "Treason Exposed! Obama Used #Benghazi Attack to Cover Up Arms Shipments to MuslimBrotherhood  https://t.co/44Hv5IvU30 https://t.co/6eok8Tk2dy\n",
      "#PodestaEmails18: Clinton Campaign wanted to undermine #Benghazi hearings! https://t.co/rfy38ZXJyi\n",
      "#Hillary  #CorruptHillary #HillarysEmails led to #DeathByDemocrat in #Benghazi  #SanBernardino + MORE  #TRUMP #MAGA https://t.co/Sq6B3TWx93\n",
      "NRA shells out $2 million for Trump ad blaming Clinton for Benghazi https://t.co/Uc1xwTCwAB https://t.co/pjsBLqxckc\n",
      "We didn't have troops 2 send 2 #Benghazi but we have 1300 #SS agents protecting a #POTUS who slept peacefully thru it. #Benghazi\n",
      "Bleeding hearts freaking over what Trump said in a private convo but yet Benghazi is a right wing conspiracy? https://t.co/qJQ017dYIr\n",
      "#Benghazi https://t.co/JjTyFQs8RQ\n",
      "#Benghazi mom Patricia Smith: \"Hillary has never taken the time off to explain to me why my son is dead.\"  https://t.co/xgnBxEXTzA\n",
      "We will never forget Hillary Clinton crimes and will never forgive her. #Benghazi #PresidentObamaNotBarry https://t.co/xsMuN58oii\n",
      "#NeverForget #Benghazi https://t.co/Yoc7hAZCmE\n",
      "Obama's Rasputin Valerie Jarrett Gave #Benghazi Stand-Down Order - https://t.co/NZ28GszxK1  - @IBDEditorials - https://t.co/e6Rs4M03bj 184\n",
      "In 30 years Hillary: - made +50 ppl disappear - created no jobs - set Middle East on fire - did not respond to Benghazi #debate #DebateNight\n",
      "‘Move on’ from Benghazi? Republicans say it’s unlikely https://t.co/T0oAYJkAQG #news\n",
      "I'll confront Hillary every where about #Benghazi with ur help. Twitter censored this. Buy~> https://t.co/wW7rIEOt8m https://t.co/9mfAoM8VyF\n",
      "Benghazi victim's mother to Trump: Stop the mentions  #politics\n",
      "HRC doesn't want 2nd Amendment guess it's like not sending the fire power to protect our men in Benghazi !\n",
      "The same day HRC attended the coffin ceremony for the four Americans she let die, Huma mocks BenghaziI #DNCleak https://t.co/wCg0EtwlYG\n",
      "Pat Smith at RNC: 'I blame Hillary Clinton personally for the death of my son' in Benghazi  #politics\n",
      "Reminiscent of Benghazi  media's deceitful reporting of NJ & NYC explosions Allah Akbar mall stabbing  is to protect Hillary before election\n",
      "NBCNews Next debate ask Lester to fact check #hillary on Emails, Health, Benghazi and her foundation. #trump2016\n",
      "More Hillary lies & manipulations! Like she\"knew\" how to handle Benghazi! #HillaryLiesMatter  #HillarysGullibles  https://t.co/BdbQRw7zdC\n",
      "Remember Bill saying that Hillary suffered more than these guys in Benghazi! https://t.co/PACRIwJDgf\n",
      "White House: Benghazi report is political https://t.co/HyqE4aUUdc \\| https://t.co/dc38MAmf29 https://t.co/JsyxdF1XBl\n",
      "NRA to spend $2M on Benghazi-themed ads—$2M more than they've allowed Congress to spend on gun violence research since blocking funds in '96\n",
      ".@HouseFloor \"I TREMBLE 4 MY COUNTRY..\"!  #tcot #ccot #Texas #ProtestersAreCriminals #Benghazi #NRA #2A #Military  https://t.co/G8fANUSQvl\n",
      "The same day HRC attended the coffin ceremony for the four Americans she let die, Huma mocks BenghaziI #DNCleak https://t.co/wCg0EtwlYG\n",
      "\"call has taken place\"  \"they should absolutely not report this\"  #HillaryEmails #Benghazi   https://t.co/DTn6szyp05 https://t.co/myuqaSabAS\n",
      "Best of #HRC #hrc2016 #ClintonScandals #FollowTheMoney #Pay4Play #ClintonCash #Benghazi #13Hours #WakeUpAmerica #CrookedHillary #trump2016 https://t.co/eMBWhrOuew\n",
      "Only Corrupt #Hillary & Her Media #Presstitutes   Could Cite Testifying About  Killing 4 #Americans   As Evidence Of #Stamina   #Benghazi https://t.co/5Z09rBp881\n",
      "Another Clinton/Obama Benghazi Style Cover-up https://t.co/dJboSv9rrS #RT @FallenAngelMovi #TCOT #CCOT #TEAPARTY https://t.co/jMLvrW3dIc\n",
      "Obama Administration officials knew #Benghazi was a terrorist attack. How would you describe their attitude towards this situation now?\n",
      "Benghazi was watched LIVE STAND DOWN MY A--!!!   https://t.co/78jECrjaSL https://t.co/wcf6Tg9vCh\n",
      "RT if you also think Lester Holt did a bad job moderating tonight!   He didn't mention: her lies, Benghazi, Emails!  #debatenight #Debates\n",
      "'@DRUDGE_REPORT Will #Hillary require 4 days to make a decision as President?  No wonder we lost 4 heros in #Benghazi she couldn't think fast'\n",
      "But, Hillary, You Told Video Lie 2 Benghazi Dead Parents B4 Sons' Caskets https://t.co/7t7nmyjmuG  American Thinker https://t.co/JI8njxchvU\n",
      "American politics 2016:Can't manage her own email,left our people in #Benghazi but still is a presidential candidate https://t.co/IL6ptCxHjN\n",
      "JUST IN: Benghazi Committee: Obama blamed video despite eyewitnesses https://t.co/2adwpyF7th https://t.co/lkUp7p2iHp\n",
      "According to leaks #HillaryClinton made billions  dollars  from #Gaddafi death which lead  to #Benghazi attack against #USA  following year\n",
      "�#PodestaEmails7  Hillary Clinton camp wanted to use statistics of death from smoking to distract people from 4 dead in #Benghazi‼️  Spread https://t.co/HCuI8Bg00P\n",
      ".@GenFlynn: \"The decision to go into Libya can be almost solely placed on Hillary Clinton.\"  #NBCNewsForum #Benghazi https://t.co/kxu7HMoqOY\n"
     ]
    }
   ],
   "source": [
    "for text in false_neg['text']:\n",
    "    if 'Benghazi' in text:\n",
    "        print(text)"
   ]
  },
  {
   "cell_type": "code",
   "execution_count": 65,
   "metadata": {},
   "outputs": [],
   "source": [
    "def get_percent(tp, fp, fn, tn):\n",
    "    legit_true = tn\n",
    "    legit_missed = fp\n",
    "    troll_missed = fn\n",
    "    troll_true = tp\n",
    "    \n",
    "    troll = troll_true + troll_missed\n",
    "    legit = legit_true + legit_missed\n",
    "    \n",
    "    true_neg = legit_true / legit\n",
    "    false_pos = legit_missed / legit\n",
    "    false_negative = troll_missed / troll\n",
    "    true_positive = troll_true / troll\n",
    "    \n",
    "    print(f'true neg: {true_neg}')\n",
    "    print(f'false pos: {false_pos}')\n",
    "    print(f'false neg: {false_negative}')\n",
    "    print(f'true pos: {true_positive}')"
   ]
  },
  {
   "cell_type": "code",
   "execution_count": 113,
   "metadata": {},
   "outputs": [
    {
     "name": "stdout",
     "output_type": "stream",
     "text": [
      "true neg: 0.4868525634656864\n",
      "false pos: 0.5131474365343136\n",
      "false neg: 0.024662873999157186\n",
      "true pos: 0.9753371260008428\n"
     ]
    }
   ],
   "source": [
    "get_percent(92579, 640447, 2341, 607629)"
   ]
  },
  {
   "cell_type": "code",
   "execution_count": 114,
   "metadata": {},
   "outputs": [
    {
     "name": "stdout",
     "output_type": "stream",
     "text": [
      "true neg: 0.9994607700172105\n",
      "false pos: 0.0005392299827895096\n",
      "false neg: 0.7618520859671302\n",
      "true pos: 0.23814791403286978\n"
     ]
    }
   ],
   "source": [
    "get_percent(22605, 673, 72315, 1247403)"
   ]
  },
  {
   "cell_type": "code",
   "execution_count": 116,
   "metadata": {},
   "outputs": [
    {
     "name": "stdout",
     "output_type": "stream",
     "text": [
      "true neg: 0.8046753563084299\n",
      "false pos: 0.19532464369157007\n",
      "false neg: 0.17961441213653603\n",
      "true pos: 0.8203855878634639\n"
     ]
    }
   ],
   "source": [
    "get_percent(77871, 243780, 17049, 1004296)"
   ]
  },
  {
   "cell_type": "code",
   "execution_count": 106,
   "metadata": {},
   "outputs": [
    {
     "name": "stdout",
     "output_type": "stream",
     "text": [
      "fizzbuzz\n"
     ]
    }
   ],
   "source": [
    "a = ['fizzbuzz', 'figbug']\n",
    "\n",
    "for word in a:\n",
    "    if 'buzz' in word:\n",
    "        print(word)"
   ]
  },
  {
   "cell_type": "code",
   "execution_count": 116,
   "metadata": {},
   "outputs": [
    {
     "data": {
      "text/html": [
       "<div>\n",
       "<style scoped>\n",
       "    .dataframe tbody tr th:only-of-type {\n",
       "        vertical-align: middle;\n",
       "    }\n",
       "\n",
       "    .dataframe tbody tr th {\n",
       "        vertical-align: top;\n",
       "    }\n",
       "\n",
       "    .dataframe thead th {\n",
       "        text-align: right;\n",
       "    }\n",
       "</style>\n",
       "<table border=\"1\" class=\"dataframe\">\n",
       "  <thead>\n",
       "    <tr style=\"text-align: right;\">\n",
       "      <th></th>\n",
       "      <th>Unnamed: 0</th>\n",
       "      <th>text</th>\n",
       "      <th>predicted</th>\n",
       "      <th>actual</th>\n",
       "    </tr>\n",
       "  </thead>\n",
       "  <tbody>\n",
       "    <tr>\n",
       "      <th>0</th>\n",
       "      <td>3313529</td>\n",
       "      <td>@realDonaldTrump @Amberis4LSU Just remember, b...</td>\n",
       "      <td>1</td>\n",
       "      <td>0</td>\n",
       "    </tr>\n",
       "    <tr>\n",
       "      <th>1</th>\n",
       "      <td>729313</td>\n",
       "      <td>Hillary Clinton MEDICAL RECORDS Leaked! 'Demen...</td>\n",
       "      <td>1</td>\n",
       "      <td>0</td>\n",
       "    </tr>\n",
       "    <tr>\n",
       "      <th>2</th>\n",
       "      <td>3563776</td>\n",
       "      <td>Trump suggests #blacklivesmatter protesters ar...</td>\n",
       "      <td>1</td>\n",
       "      <td>0</td>\n",
       "    </tr>\n",
       "    <tr>\n",
       "      <th>3</th>\n",
       "      <td>888014</td>\n",
       "      <td>@imraansiddiqi . Yusra Mardini is a befitting ...</td>\n",
       "      <td>1</td>\n",
       "      <td>0</td>\n",
       "    </tr>\n",
       "    <tr>\n",
       "      <th>4</th>\n",
       "      <td>2776823</td>\n",
       "      <td>GLOBALISM. PERIOD.\\n\\n United Nations' officia...</td>\n",
       "      <td>1</td>\n",
       "      <td>0</td>\n",
       "    </tr>\n",
       "  </tbody>\n",
       "</table>\n",
       "</div>"
      ],
      "text/plain": [
       "   Unnamed: 0                                               text  predicted  \\\n",
       "0     3313529  @realDonaldTrump @Amberis4LSU Just remember, b...          1   \n",
       "1      729313  Hillary Clinton MEDICAL RECORDS Leaked! 'Demen...          1   \n",
       "2     3563776  Trump suggests #blacklivesmatter protesters ar...          1   \n",
       "3      888014  @imraansiddiqi . Yusra Mardini is a befitting ...          1   \n",
       "4     2776823  GLOBALISM. PERIOD.\\n\\n United Nations' officia...          1   \n",
       "\n",
       "   actual  \n",
       "0       0  \n",
       "1       0  \n",
       "2       0  \n",
       "3       0  \n",
       "4       0  "
      ]
     },
     "execution_count": 116,
     "metadata": {},
     "output_type": "execute_result"
    }
   ],
   "source": [
    "all_misses.head()"
   ]
  },
  {
   "cell_type": "code",
   "execution_count": 117,
   "metadata": {},
   "outputs": [
    {
     "data": {
      "text/plain": [
       "array([[0.88917066, 0.11082934],\n",
       "       [0.81694681, 0.18305319],\n",
       "       [0.92974212, 0.07025788],\n",
       "       [0.40218618, 0.59781382],\n",
       "       [0.67575509, 0.32424491],\n",
       "       [0.73776735, 0.26223265],\n",
       "       [0.91459632, 0.08540368],\n",
       "       [0.30292736, 0.69707264],\n",
       "       [0.55290637, 0.44709363],\n",
       "       [0.94895959, 0.05104041]])"
      ]
     },
     "execution_count": 117,
     "metadata": {},
     "output_type": "execute_result"
    }
   ],
   "source": [
    "forest.probas[:10]"
   ]
  },
  {
   "cell_type": "code",
   "execution_count": 118,
   "metadata": {},
   "outputs": [
    {
     "data": {
      "text/plain": [
       "1708"
      ]
     },
     "execution_count": 118,
     "metadata": {},
     "output_type": "execute_result"
    }
   ],
   "source": [
    "len(false_pos)"
   ]
  },
  {
   "cell_type": "code",
   "execution_count": 119,
   "metadata": {},
   "outputs": [
    {
     "data": {
      "text/plain": [
       "64467"
      ]
     },
     "execution_count": 119,
     "metadata": {},
     "output_type": "execute_result"
    }
   ],
   "source": [
    "len(false_neg)"
   ]
  },
  {
   "cell_type": "code",
   "execution_count": null,
   "metadata": {},
   "outputs": [],
   "source": []
  }
 ],
 "metadata": {
  "kernelspec": {
   "display_name": "Python 3",
   "language": "python",
   "name": "python3"
  },
  "language_info": {
   "codemirror_mode": {
    "name": "ipython",
    "version": 3
   },
   "file_extension": ".py",
   "mimetype": "text/x-python",
   "name": "python",
   "nbconvert_exporter": "python",
   "pygments_lexer": "ipython3",
   "version": "3.7.1"
  }
 },
 "nbformat": 4,
 "nbformat_minor": 2
}
